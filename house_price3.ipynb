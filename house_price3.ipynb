{
  "nbformat": 4,
  "nbformat_minor": 0,
  "metadata": {
    "colab": {
      "name": "house price3.ipynb",
      "provenance": [],
      "authorship_tag": "ABX9TyOrIb164PBhbHwN2BLHeSZJ",
      "include_colab_link": true
    },
    "kernelspec": {
      "name": "python3",
      "display_name": "Python 3"
    },
    "language_info": {
      "name": "python"
    }
  },
  "cells": [
    {
      "cell_type": "markdown",
      "metadata": {
        "id": "view-in-github",
        "colab_type": "text"
      },
      "source": [
        "<a href=\"https://colab.research.google.com/github/takehiro161013/kaggle_houseprice/blob/main/house_price3.ipynb\" target=\"_parent\"><img src=\"https://colab.research.google.com/assets/colab-badge.svg\" alt=\"Open In Colab\"/></a>"
      ]
    },
    {
      "cell_type": "markdown",
      "metadata": {
        "id": "mtbrvJXZCnWP"
      },
      "source": [
        "\n",
        "<a href=\"https://www.kaggle.com/serigne/stacked-regressions-top-4-on-leaderboard\">Stacked Regressions : Top 4% on LeaderBoard</a>を参考<br>\n",
        "てか丸パクリ<br>\n",
        "ディレクトリは各自で<br>\n",
        "参考url<br>\n",
        "https://www.kaggle.com/takizawa/kaggle-tutorial-house-prices?scriptVersionId=1081693<br>\n",
        "https://github.com/CodeSeterpie/CodeSeterpie/blob/develop/Kaggle/HousePrices/input/data_description_ja.md<br>"
      ]
    },
    {
      "cell_type": "code",
      "metadata": {
        "colab": {
          "base_uri": "https://localhost:8080/"
        },
        "id": "JtxZmG5JF-Vo",
        "outputId": "0cec9b36-91a7-48bc-9b61-e734b3893da1"
      },
      "source": [
        "from google.colab import drive\n",
        "drive.mount('/content/drive')"
      ],
      "execution_count": null,
      "outputs": [
        {
          "output_type": "stream",
          "text": [
            "Mounted at /content/drive\n"
          ],
          "name": "stdout"
        }
      ]
    },
    {
      "cell_type": "code",
      "metadata": {
        "colab": {
          "base_uri": "https://localhost:8080/"
        },
        "id": "WrglOJiYuYR8",
        "outputId": "f91a49f2-693e-4cb1-c25f-5b3ddc3c2eb4"
      },
      "source": [
        "#import some necessary librairies\n",
        "\n",
        "import numpy as np # linear algebra\n",
        "import pandas as pd # data processing, CSV file I/O (e.g. pd.read_csv)\n",
        "%matplotlib inline\n",
        "import matplotlib.pyplot as plt  # Matlab-style plotting\n",
        "import seaborn as sns\n",
        "color = sns.color_palette()\n",
        "sns.set_style('darkgrid')\n",
        "import warnings\n",
        "def ignore_warn(*args, **kwargs):\n",
        "    pass\n",
        "warnings.warn = ignore_warn #ignore annoying warning (from sklearn and seaborn)\n",
        "\n",
        "\n",
        "from scipy import stats\n",
        "from scipy.stats import norm, skew #for some statistics\n",
        "\n",
        "\n",
        "pd.set_option('display.float_format', lambda x: '{:.3f}'.format(x)) #Limiting floats output to 3 decimal points\n",
        "\n",
        "\n",
        "from subprocess import check_output\n",
        "print(check_output([\"ls\", \"/content/drive/MyDrive/Colab Notebooks/house-prices-advanced-regression-techniques/input\"]).decode(\"utf8\")) #check the files available in the directory"
      ],
      "execution_count": null,
      "outputs": [
        {
          "output_type": "stream",
          "text": [
            "sample_submission.csv\n",
            "test.csv\n",
            "train.csv\n",
            "\n"
          ],
          "name": "stdout"
        }
      ]
    },
    {
      "cell_type": "code",
      "metadata": {
        "id": "LHLKcpv3Edlz"
      },
      "source": [
        "path = \"/content/drive/MyDrive/Colab Notebooks/house-prices-advanced-regression-techniques/\"\n",
        "\n",
        "df = pd.read_csv(path + 'input/train.csv')\n",
        "df_test = pd.read_csv(path + 'input/test.csv')\n",
        "submission = pd.read_csv(path + 'output/sample_submission.csv')"
      ],
      "execution_count": null,
      "outputs": []
    },
    {
      "cell_type": "code",
      "metadata": {
        "colab": {
          "base_uri": "https://localhost:8080/",
          "height": 442
        },
        "id": "-JEnGCBqEdl0",
        "outputId": "cf560537-2a38-4d96-ff2d-11a02ca03968"
      },
      "source": [
        "all_df = pd.concat([df, df_test]).reset_index(drop=True)\n",
        "all_df"
      ],
      "execution_count": null,
      "outputs": [
        {
          "output_type": "execute_result",
          "data": {
            "text/html": [
              "<div>\n",
              "<style scoped>\n",
              "    .dataframe tbody tr th:only-of-type {\n",
              "        vertical-align: middle;\n",
              "    }\n",
              "\n",
              "    .dataframe tbody tr th {\n",
              "        vertical-align: top;\n",
              "    }\n",
              "\n",
              "    .dataframe thead th {\n",
              "        text-align: right;\n",
              "    }\n",
              "</style>\n",
              "<table border=\"1\" class=\"dataframe\">\n",
              "  <thead>\n",
              "    <tr style=\"text-align: right;\">\n",
              "      <th></th>\n",
              "      <th>Id</th>\n",
              "      <th>MSSubClass</th>\n",
              "      <th>MSZoning</th>\n",
              "      <th>LotFrontage</th>\n",
              "      <th>LotArea</th>\n",
              "      <th>Street</th>\n",
              "      <th>Alley</th>\n",
              "      <th>LotShape</th>\n",
              "      <th>LandContour</th>\n",
              "      <th>Utilities</th>\n",
              "      <th>LotConfig</th>\n",
              "      <th>LandSlope</th>\n",
              "      <th>Neighborhood</th>\n",
              "      <th>Condition1</th>\n",
              "      <th>Condition2</th>\n",
              "      <th>BldgType</th>\n",
              "      <th>HouseStyle</th>\n",
              "      <th>OverallQual</th>\n",
              "      <th>OverallCond</th>\n",
              "      <th>YearBuilt</th>\n",
              "      <th>YearRemodAdd</th>\n",
              "      <th>RoofStyle</th>\n",
              "      <th>RoofMatl</th>\n",
              "      <th>Exterior1st</th>\n",
              "      <th>Exterior2nd</th>\n",
              "      <th>MasVnrType</th>\n",
              "      <th>MasVnrArea</th>\n",
              "      <th>ExterQual</th>\n",
              "      <th>ExterCond</th>\n",
              "      <th>Foundation</th>\n",
              "      <th>BsmtQual</th>\n",
              "      <th>BsmtCond</th>\n",
              "      <th>BsmtExposure</th>\n",
              "      <th>BsmtFinType1</th>\n",
              "      <th>BsmtFinSF1</th>\n",
              "      <th>BsmtFinType2</th>\n",
              "      <th>BsmtFinSF2</th>\n",
              "      <th>BsmtUnfSF</th>\n",
              "      <th>TotalBsmtSF</th>\n",
              "      <th>Heating</th>\n",
              "      <th>...</th>\n",
              "      <th>CentralAir</th>\n",
              "      <th>Electrical</th>\n",
              "      <th>1stFlrSF</th>\n",
              "      <th>2ndFlrSF</th>\n",
              "      <th>LowQualFinSF</th>\n",
              "      <th>GrLivArea</th>\n",
              "      <th>BsmtFullBath</th>\n",
              "      <th>BsmtHalfBath</th>\n",
              "      <th>FullBath</th>\n",
              "      <th>HalfBath</th>\n",
              "      <th>BedroomAbvGr</th>\n",
              "      <th>KitchenAbvGr</th>\n",
              "      <th>KitchenQual</th>\n",
              "      <th>TotRmsAbvGrd</th>\n",
              "      <th>Functional</th>\n",
              "      <th>Fireplaces</th>\n",
              "      <th>FireplaceQu</th>\n",
              "      <th>GarageType</th>\n",
              "      <th>GarageYrBlt</th>\n",
              "      <th>GarageFinish</th>\n",
              "      <th>GarageCars</th>\n",
              "      <th>GarageArea</th>\n",
              "      <th>GarageQual</th>\n",
              "      <th>GarageCond</th>\n",
              "      <th>PavedDrive</th>\n",
              "      <th>WoodDeckSF</th>\n",
              "      <th>OpenPorchSF</th>\n",
              "      <th>EnclosedPorch</th>\n",
              "      <th>3SsnPorch</th>\n",
              "      <th>ScreenPorch</th>\n",
              "      <th>PoolArea</th>\n",
              "      <th>PoolQC</th>\n",
              "      <th>Fence</th>\n",
              "      <th>MiscFeature</th>\n",
              "      <th>MiscVal</th>\n",
              "      <th>MoSold</th>\n",
              "      <th>YrSold</th>\n",
              "      <th>SaleType</th>\n",
              "      <th>SaleCondition</th>\n",
              "      <th>SalePrice</th>\n",
              "    </tr>\n",
              "  </thead>\n",
              "  <tbody>\n",
              "    <tr>\n",
              "      <th>0</th>\n",
              "      <td>1</td>\n",
              "      <td>60</td>\n",
              "      <td>RL</td>\n",
              "      <td>65.0</td>\n",
              "      <td>8450</td>\n",
              "      <td>Pave</td>\n",
              "      <td>NaN</td>\n",
              "      <td>Reg</td>\n",
              "      <td>Lvl</td>\n",
              "      <td>AllPub</td>\n",
              "      <td>Inside</td>\n",
              "      <td>Gtl</td>\n",
              "      <td>CollgCr</td>\n",
              "      <td>Norm</td>\n",
              "      <td>Norm</td>\n",
              "      <td>1Fam</td>\n",
              "      <td>2Story</td>\n",
              "      <td>7</td>\n",
              "      <td>5</td>\n",
              "      <td>2003</td>\n",
              "      <td>2003</td>\n",
              "      <td>Gable</td>\n",
              "      <td>CompShg</td>\n",
              "      <td>VinylSd</td>\n",
              "      <td>VinylSd</td>\n",
              "      <td>BrkFace</td>\n",
              "      <td>196.0</td>\n",
              "      <td>Gd</td>\n",
              "      <td>TA</td>\n",
              "      <td>PConc</td>\n",
              "      <td>Gd</td>\n",
              "      <td>TA</td>\n",
              "      <td>No</td>\n",
              "      <td>GLQ</td>\n",
              "      <td>706.0</td>\n",
              "      <td>Unf</td>\n",
              "      <td>0.0</td>\n",
              "      <td>150.0</td>\n",
              "      <td>856.0</td>\n",
              "      <td>GasA</td>\n",
              "      <td>...</td>\n",
              "      <td>Y</td>\n",
              "      <td>SBrkr</td>\n",
              "      <td>856</td>\n",
              "      <td>854</td>\n",
              "      <td>0</td>\n",
              "      <td>1710</td>\n",
              "      <td>1.0</td>\n",
              "      <td>0.0</td>\n",
              "      <td>2</td>\n",
              "      <td>1</td>\n",
              "      <td>3</td>\n",
              "      <td>1</td>\n",
              "      <td>Gd</td>\n",
              "      <td>8</td>\n",
              "      <td>Typ</td>\n",
              "      <td>0</td>\n",
              "      <td>NaN</td>\n",
              "      <td>Attchd</td>\n",
              "      <td>2003.0</td>\n",
              "      <td>RFn</td>\n",
              "      <td>2.0</td>\n",
              "      <td>548.0</td>\n",
              "      <td>TA</td>\n",
              "      <td>TA</td>\n",
              "      <td>Y</td>\n",
              "      <td>0</td>\n",
              "      <td>61</td>\n",
              "      <td>0</td>\n",
              "      <td>0</td>\n",
              "      <td>0</td>\n",
              "      <td>0</td>\n",
              "      <td>NaN</td>\n",
              "      <td>NaN</td>\n",
              "      <td>NaN</td>\n",
              "      <td>0</td>\n",
              "      <td>2</td>\n",
              "      <td>2008</td>\n",
              "      <td>WD</td>\n",
              "      <td>Normal</td>\n",
              "      <td>208500.0</td>\n",
              "    </tr>\n",
              "    <tr>\n",
              "      <th>1</th>\n",
              "      <td>2</td>\n",
              "      <td>20</td>\n",
              "      <td>RL</td>\n",
              "      <td>80.0</td>\n",
              "      <td>9600</td>\n",
              "      <td>Pave</td>\n",
              "      <td>NaN</td>\n",
              "      <td>Reg</td>\n",
              "      <td>Lvl</td>\n",
              "      <td>AllPub</td>\n",
              "      <td>FR2</td>\n",
              "      <td>Gtl</td>\n",
              "      <td>Veenker</td>\n",
              "      <td>Feedr</td>\n",
              "      <td>Norm</td>\n",
              "      <td>1Fam</td>\n",
              "      <td>1Story</td>\n",
              "      <td>6</td>\n",
              "      <td>8</td>\n",
              "      <td>1976</td>\n",
              "      <td>1976</td>\n",
              "      <td>Gable</td>\n",
              "      <td>CompShg</td>\n",
              "      <td>MetalSd</td>\n",
              "      <td>MetalSd</td>\n",
              "      <td>None</td>\n",
              "      <td>0.0</td>\n",
              "      <td>TA</td>\n",
              "      <td>TA</td>\n",
              "      <td>CBlock</td>\n",
              "      <td>Gd</td>\n",
              "      <td>TA</td>\n",
              "      <td>Gd</td>\n",
              "      <td>ALQ</td>\n",
              "      <td>978.0</td>\n",
              "      <td>Unf</td>\n",
              "      <td>0.0</td>\n",
              "      <td>284.0</td>\n",
              "      <td>1262.0</td>\n",
              "      <td>GasA</td>\n",
              "      <td>...</td>\n",
              "      <td>Y</td>\n",
              "      <td>SBrkr</td>\n",
              "      <td>1262</td>\n",
              "      <td>0</td>\n",
              "      <td>0</td>\n",
              "      <td>1262</td>\n",
              "      <td>0.0</td>\n",
              "      <td>1.0</td>\n",
              "      <td>2</td>\n",
              "      <td>0</td>\n",
              "      <td>3</td>\n",
              "      <td>1</td>\n",
              "      <td>TA</td>\n",
              "      <td>6</td>\n",
              "      <td>Typ</td>\n",
              "      <td>1</td>\n",
              "      <td>TA</td>\n",
              "      <td>Attchd</td>\n",
              "      <td>1976.0</td>\n",
              "      <td>RFn</td>\n",
              "      <td>2.0</td>\n",
              "      <td>460.0</td>\n",
              "      <td>TA</td>\n",
              "      <td>TA</td>\n",
              "      <td>Y</td>\n",
              "      <td>298</td>\n",
              "      <td>0</td>\n",
              "      <td>0</td>\n",
              "      <td>0</td>\n",
              "      <td>0</td>\n",
              "      <td>0</td>\n",
              "      <td>NaN</td>\n",
              "      <td>NaN</td>\n",
              "      <td>NaN</td>\n",
              "      <td>0</td>\n",
              "      <td>5</td>\n",
              "      <td>2007</td>\n",
              "      <td>WD</td>\n",
              "      <td>Normal</td>\n",
              "      <td>181500.0</td>\n",
              "    </tr>\n",
              "    <tr>\n",
              "      <th>2</th>\n",
              "      <td>3</td>\n",
              "      <td>60</td>\n",
              "      <td>RL</td>\n",
              "      <td>68.0</td>\n",
              "      <td>11250</td>\n",
              "      <td>Pave</td>\n",
              "      <td>NaN</td>\n",
              "      <td>IR1</td>\n",
              "      <td>Lvl</td>\n",
              "      <td>AllPub</td>\n",
              "      <td>Inside</td>\n",
              "      <td>Gtl</td>\n",
              "      <td>CollgCr</td>\n",
              "      <td>Norm</td>\n",
              "      <td>Norm</td>\n",
              "      <td>1Fam</td>\n",
              "      <td>2Story</td>\n",
              "      <td>7</td>\n",
              "      <td>5</td>\n",
              "      <td>2001</td>\n",
              "      <td>2002</td>\n",
              "      <td>Gable</td>\n",
              "      <td>CompShg</td>\n",
              "      <td>VinylSd</td>\n",
              "      <td>VinylSd</td>\n",
              "      <td>BrkFace</td>\n",
              "      <td>162.0</td>\n",
              "      <td>Gd</td>\n",
              "      <td>TA</td>\n",
              "      <td>PConc</td>\n",
              "      <td>Gd</td>\n",
              "      <td>TA</td>\n",
              "      <td>Mn</td>\n",
              "      <td>GLQ</td>\n",
              "      <td>486.0</td>\n",
              "      <td>Unf</td>\n",
              "      <td>0.0</td>\n",
              "      <td>434.0</td>\n",
              "      <td>920.0</td>\n",
              "      <td>GasA</td>\n",
              "      <td>...</td>\n",
              "      <td>Y</td>\n",
              "      <td>SBrkr</td>\n",
              "      <td>920</td>\n",
              "      <td>866</td>\n",
              "      <td>0</td>\n",
              "      <td>1786</td>\n",
              "      <td>1.0</td>\n",
              "      <td>0.0</td>\n",
              "      <td>2</td>\n",
              "      <td>1</td>\n",
              "      <td>3</td>\n",
              "      <td>1</td>\n",
              "      <td>Gd</td>\n",
              "      <td>6</td>\n",
              "      <td>Typ</td>\n",
              "      <td>1</td>\n",
              "      <td>TA</td>\n",
              "      <td>Attchd</td>\n",
              "      <td>2001.0</td>\n",
              "      <td>RFn</td>\n",
              "      <td>2.0</td>\n",
              "      <td>608.0</td>\n",
              "      <td>TA</td>\n",
              "      <td>TA</td>\n",
              "      <td>Y</td>\n",
              "      <td>0</td>\n",
              "      <td>42</td>\n",
              "      <td>0</td>\n",
              "      <td>0</td>\n",
              "      <td>0</td>\n",
              "      <td>0</td>\n",
              "      <td>NaN</td>\n",
              "      <td>NaN</td>\n",
              "      <td>NaN</td>\n",
              "      <td>0</td>\n",
              "      <td>9</td>\n",
              "      <td>2008</td>\n",
              "      <td>WD</td>\n",
              "      <td>Normal</td>\n",
              "      <td>223500.0</td>\n",
              "    </tr>\n",
              "    <tr>\n",
              "      <th>3</th>\n",
              "      <td>4</td>\n",
              "      <td>70</td>\n",
              "      <td>RL</td>\n",
              "      <td>60.0</td>\n",
              "      <td>9550</td>\n",
              "      <td>Pave</td>\n",
              "      <td>NaN</td>\n",
              "      <td>IR1</td>\n",
              "      <td>Lvl</td>\n",
              "      <td>AllPub</td>\n",
              "      <td>Corner</td>\n",
              "      <td>Gtl</td>\n",
              "      <td>Crawfor</td>\n",
              "      <td>Norm</td>\n",
              "      <td>Norm</td>\n",
              "      <td>1Fam</td>\n",
              "      <td>2Story</td>\n",
              "      <td>7</td>\n",
              "      <td>5</td>\n",
              "      <td>1915</td>\n",
              "      <td>1970</td>\n",
              "      <td>Gable</td>\n",
              "      <td>CompShg</td>\n",
              "      <td>Wd Sdng</td>\n",
              "      <td>Wd Shng</td>\n",
              "      <td>None</td>\n",
              "      <td>0.0</td>\n",
              "      <td>TA</td>\n",
              "      <td>TA</td>\n",
              "      <td>BrkTil</td>\n",
              "      <td>TA</td>\n",
              "      <td>Gd</td>\n",
              "      <td>No</td>\n",
              "      <td>ALQ</td>\n",
              "      <td>216.0</td>\n",
              "      <td>Unf</td>\n",
              "      <td>0.0</td>\n",
              "      <td>540.0</td>\n",
              "      <td>756.0</td>\n",
              "      <td>GasA</td>\n",
              "      <td>...</td>\n",
              "      <td>Y</td>\n",
              "      <td>SBrkr</td>\n",
              "      <td>961</td>\n",
              "      <td>756</td>\n",
              "      <td>0</td>\n",
              "      <td>1717</td>\n",
              "      <td>1.0</td>\n",
              "      <td>0.0</td>\n",
              "      <td>1</td>\n",
              "      <td>0</td>\n",
              "      <td>3</td>\n",
              "      <td>1</td>\n",
              "      <td>Gd</td>\n",
              "      <td>7</td>\n",
              "      <td>Typ</td>\n",
              "      <td>1</td>\n",
              "      <td>Gd</td>\n",
              "      <td>Detchd</td>\n",
              "      <td>1998.0</td>\n",
              "      <td>Unf</td>\n",
              "      <td>3.0</td>\n",
              "      <td>642.0</td>\n",
              "      <td>TA</td>\n",
              "      <td>TA</td>\n",
              "      <td>Y</td>\n",
              "      <td>0</td>\n",
              "      <td>35</td>\n",
              "      <td>272</td>\n",
              "      <td>0</td>\n",
              "      <td>0</td>\n",
              "      <td>0</td>\n",
              "      <td>NaN</td>\n",
              "      <td>NaN</td>\n",
              "      <td>NaN</td>\n",
              "      <td>0</td>\n",
              "      <td>2</td>\n",
              "      <td>2006</td>\n",
              "      <td>WD</td>\n",
              "      <td>Abnorml</td>\n",
              "      <td>140000.0</td>\n",
              "    </tr>\n",
              "    <tr>\n",
              "      <th>4</th>\n",
              "      <td>5</td>\n",
              "      <td>60</td>\n",
              "      <td>RL</td>\n",
              "      <td>84.0</td>\n",
              "      <td>14260</td>\n",
              "      <td>Pave</td>\n",
              "      <td>NaN</td>\n",
              "      <td>IR1</td>\n",
              "      <td>Lvl</td>\n",
              "      <td>AllPub</td>\n",
              "      <td>FR2</td>\n",
              "      <td>Gtl</td>\n",
              "      <td>NoRidge</td>\n",
              "      <td>Norm</td>\n",
              "      <td>Norm</td>\n",
              "      <td>1Fam</td>\n",
              "      <td>2Story</td>\n",
              "      <td>8</td>\n",
              "      <td>5</td>\n",
              "      <td>2000</td>\n",
              "      <td>2000</td>\n",
              "      <td>Gable</td>\n",
              "      <td>CompShg</td>\n",
              "      <td>VinylSd</td>\n",
              "      <td>VinylSd</td>\n",
              "      <td>BrkFace</td>\n",
              "      <td>350.0</td>\n",
              "      <td>Gd</td>\n",
              "      <td>TA</td>\n",
              "      <td>PConc</td>\n",
              "      <td>Gd</td>\n",
              "      <td>TA</td>\n",
              "      <td>Av</td>\n",
              "      <td>GLQ</td>\n",
              "      <td>655.0</td>\n",
              "      <td>Unf</td>\n",
              "      <td>0.0</td>\n",
              "      <td>490.0</td>\n",
              "      <td>1145.0</td>\n",
              "      <td>GasA</td>\n",
              "      <td>...</td>\n",
              "      <td>Y</td>\n",
              "      <td>SBrkr</td>\n",
              "      <td>1145</td>\n",
              "      <td>1053</td>\n",
              "      <td>0</td>\n",
              "      <td>2198</td>\n",
              "      <td>1.0</td>\n",
              "      <td>0.0</td>\n",
              "      <td>2</td>\n",
              "      <td>1</td>\n",
              "      <td>4</td>\n",
              "      <td>1</td>\n",
              "      <td>Gd</td>\n",
              "      <td>9</td>\n",
              "      <td>Typ</td>\n",
              "      <td>1</td>\n",
              "      <td>TA</td>\n",
              "      <td>Attchd</td>\n",
              "      <td>2000.0</td>\n",
              "      <td>RFn</td>\n",
              "      <td>3.0</td>\n",
              "      <td>836.0</td>\n",
              "      <td>TA</td>\n",
              "      <td>TA</td>\n",
              "      <td>Y</td>\n",
              "      <td>192</td>\n",
              "      <td>84</td>\n",
              "      <td>0</td>\n",
              "      <td>0</td>\n",
              "      <td>0</td>\n",
              "      <td>0</td>\n",
              "      <td>NaN</td>\n",
              "      <td>NaN</td>\n",
              "      <td>NaN</td>\n",
              "      <td>0</td>\n",
              "      <td>12</td>\n",
              "      <td>2008</td>\n",
              "      <td>WD</td>\n",
              "      <td>Normal</td>\n",
              "      <td>250000.0</td>\n",
              "    </tr>\n",
              "    <tr>\n",
              "      <th>...</th>\n",
              "      <td>...</td>\n",
              "      <td>...</td>\n",
              "      <td>...</td>\n",
              "      <td>...</td>\n",
              "      <td>...</td>\n",
              "      <td>...</td>\n",
              "      <td>...</td>\n",
              "      <td>...</td>\n",
              "      <td>...</td>\n",
              "      <td>...</td>\n",
              "      <td>...</td>\n",
              "      <td>...</td>\n",
              "      <td>...</td>\n",
              "      <td>...</td>\n",
              "      <td>...</td>\n",
              "      <td>...</td>\n",
              "      <td>...</td>\n",
              "      <td>...</td>\n",
              "      <td>...</td>\n",
              "      <td>...</td>\n",
              "      <td>...</td>\n",
              "      <td>...</td>\n",
              "      <td>...</td>\n",
              "      <td>...</td>\n",
              "      <td>...</td>\n",
              "      <td>...</td>\n",
              "      <td>...</td>\n",
              "      <td>...</td>\n",
              "      <td>...</td>\n",
              "      <td>...</td>\n",
              "      <td>...</td>\n",
              "      <td>...</td>\n",
              "      <td>...</td>\n",
              "      <td>...</td>\n",
              "      <td>...</td>\n",
              "      <td>...</td>\n",
              "      <td>...</td>\n",
              "      <td>...</td>\n",
              "      <td>...</td>\n",
              "      <td>...</td>\n",
              "      <td>...</td>\n",
              "      <td>...</td>\n",
              "      <td>...</td>\n",
              "      <td>...</td>\n",
              "      <td>...</td>\n",
              "      <td>...</td>\n",
              "      <td>...</td>\n",
              "      <td>...</td>\n",
              "      <td>...</td>\n",
              "      <td>...</td>\n",
              "      <td>...</td>\n",
              "      <td>...</td>\n",
              "      <td>...</td>\n",
              "      <td>...</td>\n",
              "      <td>...</td>\n",
              "      <td>...</td>\n",
              "      <td>...</td>\n",
              "      <td>...</td>\n",
              "      <td>...</td>\n",
              "      <td>...</td>\n",
              "      <td>...</td>\n",
              "      <td>...</td>\n",
              "      <td>...</td>\n",
              "      <td>...</td>\n",
              "      <td>...</td>\n",
              "      <td>...</td>\n",
              "      <td>...</td>\n",
              "      <td>...</td>\n",
              "      <td>...</td>\n",
              "      <td>...</td>\n",
              "      <td>...</td>\n",
              "      <td>...</td>\n",
              "      <td>...</td>\n",
              "      <td>...</td>\n",
              "      <td>...</td>\n",
              "      <td>...</td>\n",
              "      <td>...</td>\n",
              "      <td>...</td>\n",
              "      <td>...</td>\n",
              "      <td>...</td>\n",
              "      <td>...</td>\n",
              "    </tr>\n",
              "    <tr>\n",
              "      <th>2914</th>\n",
              "      <td>2915</td>\n",
              "      <td>160</td>\n",
              "      <td>RM</td>\n",
              "      <td>21.0</td>\n",
              "      <td>1936</td>\n",
              "      <td>Pave</td>\n",
              "      <td>NaN</td>\n",
              "      <td>Reg</td>\n",
              "      <td>Lvl</td>\n",
              "      <td>AllPub</td>\n",
              "      <td>Inside</td>\n",
              "      <td>Gtl</td>\n",
              "      <td>MeadowV</td>\n",
              "      <td>Norm</td>\n",
              "      <td>Norm</td>\n",
              "      <td>Twnhs</td>\n",
              "      <td>2Story</td>\n",
              "      <td>4</td>\n",
              "      <td>7</td>\n",
              "      <td>1970</td>\n",
              "      <td>1970</td>\n",
              "      <td>Gable</td>\n",
              "      <td>CompShg</td>\n",
              "      <td>CemntBd</td>\n",
              "      <td>CmentBd</td>\n",
              "      <td>None</td>\n",
              "      <td>0.0</td>\n",
              "      <td>TA</td>\n",
              "      <td>TA</td>\n",
              "      <td>CBlock</td>\n",
              "      <td>TA</td>\n",
              "      <td>TA</td>\n",
              "      <td>No</td>\n",
              "      <td>Unf</td>\n",
              "      <td>0.0</td>\n",
              "      <td>Unf</td>\n",
              "      <td>0.0</td>\n",
              "      <td>546.0</td>\n",
              "      <td>546.0</td>\n",
              "      <td>GasA</td>\n",
              "      <td>...</td>\n",
              "      <td>Y</td>\n",
              "      <td>SBrkr</td>\n",
              "      <td>546</td>\n",
              "      <td>546</td>\n",
              "      <td>0</td>\n",
              "      <td>1092</td>\n",
              "      <td>0.0</td>\n",
              "      <td>0.0</td>\n",
              "      <td>1</td>\n",
              "      <td>1</td>\n",
              "      <td>3</td>\n",
              "      <td>1</td>\n",
              "      <td>TA</td>\n",
              "      <td>5</td>\n",
              "      <td>Typ</td>\n",
              "      <td>0</td>\n",
              "      <td>NaN</td>\n",
              "      <td>NaN</td>\n",
              "      <td>NaN</td>\n",
              "      <td>NaN</td>\n",
              "      <td>0.0</td>\n",
              "      <td>0.0</td>\n",
              "      <td>NaN</td>\n",
              "      <td>NaN</td>\n",
              "      <td>Y</td>\n",
              "      <td>0</td>\n",
              "      <td>0</td>\n",
              "      <td>0</td>\n",
              "      <td>0</td>\n",
              "      <td>0</td>\n",
              "      <td>0</td>\n",
              "      <td>NaN</td>\n",
              "      <td>NaN</td>\n",
              "      <td>NaN</td>\n",
              "      <td>0</td>\n",
              "      <td>6</td>\n",
              "      <td>2006</td>\n",
              "      <td>WD</td>\n",
              "      <td>Normal</td>\n",
              "      <td>NaN</td>\n",
              "    </tr>\n",
              "    <tr>\n",
              "      <th>2915</th>\n",
              "      <td>2916</td>\n",
              "      <td>160</td>\n",
              "      <td>RM</td>\n",
              "      <td>21.0</td>\n",
              "      <td>1894</td>\n",
              "      <td>Pave</td>\n",
              "      <td>NaN</td>\n",
              "      <td>Reg</td>\n",
              "      <td>Lvl</td>\n",
              "      <td>AllPub</td>\n",
              "      <td>Inside</td>\n",
              "      <td>Gtl</td>\n",
              "      <td>MeadowV</td>\n",
              "      <td>Norm</td>\n",
              "      <td>Norm</td>\n",
              "      <td>TwnhsE</td>\n",
              "      <td>2Story</td>\n",
              "      <td>4</td>\n",
              "      <td>5</td>\n",
              "      <td>1970</td>\n",
              "      <td>1970</td>\n",
              "      <td>Gable</td>\n",
              "      <td>CompShg</td>\n",
              "      <td>CemntBd</td>\n",
              "      <td>CmentBd</td>\n",
              "      <td>None</td>\n",
              "      <td>0.0</td>\n",
              "      <td>TA</td>\n",
              "      <td>TA</td>\n",
              "      <td>CBlock</td>\n",
              "      <td>TA</td>\n",
              "      <td>TA</td>\n",
              "      <td>No</td>\n",
              "      <td>Rec</td>\n",
              "      <td>252.0</td>\n",
              "      <td>Unf</td>\n",
              "      <td>0.0</td>\n",
              "      <td>294.0</td>\n",
              "      <td>546.0</td>\n",
              "      <td>GasA</td>\n",
              "      <td>...</td>\n",
              "      <td>Y</td>\n",
              "      <td>SBrkr</td>\n",
              "      <td>546</td>\n",
              "      <td>546</td>\n",
              "      <td>0</td>\n",
              "      <td>1092</td>\n",
              "      <td>0.0</td>\n",
              "      <td>0.0</td>\n",
              "      <td>1</td>\n",
              "      <td>1</td>\n",
              "      <td>3</td>\n",
              "      <td>1</td>\n",
              "      <td>TA</td>\n",
              "      <td>6</td>\n",
              "      <td>Typ</td>\n",
              "      <td>0</td>\n",
              "      <td>NaN</td>\n",
              "      <td>CarPort</td>\n",
              "      <td>1970.0</td>\n",
              "      <td>Unf</td>\n",
              "      <td>1.0</td>\n",
              "      <td>286.0</td>\n",
              "      <td>TA</td>\n",
              "      <td>TA</td>\n",
              "      <td>Y</td>\n",
              "      <td>0</td>\n",
              "      <td>24</td>\n",
              "      <td>0</td>\n",
              "      <td>0</td>\n",
              "      <td>0</td>\n",
              "      <td>0</td>\n",
              "      <td>NaN</td>\n",
              "      <td>NaN</td>\n",
              "      <td>NaN</td>\n",
              "      <td>0</td>\n",
              "      <td>4</td>\n",
              "      <td>2006</td>\n",
              "      <td>WD</td>\n",
              "      <td>Abnorml</td>\n",
              "      <td>NaN</td>\n",
              "    </tr>\n",
              "    <tr>\n",
              "      <th>2916</th>\n",
              "      <td>2917</td>\n",
              "      <td>20</td>\n",
              "      <td>RL</td>\n",
              "      <td>160.0</td>\n",
              "      <td>20000</td>\n",
              "      <td>Pave</td>\n",
              "      <td>NaN</td>\n",
              "      <td>Reg</td>\n",
              "      <td>Lvl</td>\n",
              "      <td>AllPub</td>\n",
              "      <td>Inside</td>\n",
              "      <td>Gtl</td>\n",
              "      <td>Mitchel</td>\n",
              "      <td>Norm</td>\n",
              "      <td>Norm</td>\n",
              "      <td>1Fam</td>\n",
              "      <td>1Story</td>\n",
              "      <td>5</td>\n",
              "      <td>7</td>\n",
              "      <td>1960</td>\n",
              "      <td>1996</td>\n",
              "      <td>Gable</td>\n",
              "      <td>CompShg</td>\n",
              "      <td>VinylSd</td>\n",
              "      <td>VinylSd</td>\n",
              "      <td>None</td>\n",
              "      <td>0.0</td>\n",
              "      <td>TA</td>\n",
              "      <td>TA</td>\n",
              "      <td>CBlock</td>\n",
              "      <td>TA</td>\n",
              "      <td>TA</td>\n",
              "      <td>No</td>\n",
              "      <td>ALQ</td>\n",
              "      <td>1224.0</td>\n",
              "      <td>Unf</td>\n",
              "      <td>0.0</td>\n",
              "      <td>0.0</td>\n",
              "      <td>1224.0</td>\n",
              "      <td>GasA</td>\n",
              "      <td>...</td>\n",
              "      <td>Y</td>\n",
              "      <td>SBrkr</td>\n",
              "      <td>1224</td>\n",
              "      <td>0</td>\n",
              "      <td>0</td>\n",
              "      <td>1224</td>\n",
              "      <td>1.0</td>\n",
              "      <td>0.0</td>\n",
              "      <td>1</td>\n",
              "      <td>0</td>\n",
              "      <td>4</td>\n",
              "      <td>1</td>\n",
              "      <td>TA</td>\n",
              "      <td>7</td>\n",
              "      <td>Typ</td>\n",
              "      <td>1</td>\n",
              "      <td>TA</td>\n",
              "      <td>Detchd</td>\n",
              "      <td>1960.0</td>\n",
              "      <td>Unf</td>\n",
              "      <td>2.0</td>\n",
              "      <td>576.0</td>\n",
              "      <td>TA</td>\n",
              "      <td>TA</td>\n",
              "      <td>Y</td>\n",
              "      <td>474</td>\n",
              "      <td>0</td>\n",
              "      <td>0</td>\n",
              "      <td>0</td>\n",
              "      <td>0</td>\n",
              "      <td>0</td>\n",
              "      <td>NaN</td>\n",
              "      <td>NaN</td>\n",
              "      <td>NaN</td>\n",
              "      <td>0</td>\n",
              "      <td>9</td>\n",
              "      <td>2006</td>\n",
              "      <td>WD</td>\n",
              "      <td>Abnorml</td>\n",
              "      <td>NaN</td>\n",
              "    </tr>\n",
              "    <tr>\n",
              "      <th>2917</th>\n",
              "      <td>2918</td>\n",
              "      <td>85</td>\n",
              "      <td>RL</td>\n",
              "      <td>62.0</td>\n",
              "      <td>10441</td>\n",
              "      <td>Pave</td>\n",
              "      <td>NaN</td>\n",
              "      <td>Reg</td>\n",
              "      <td>Lvl</td>\n",
              "      <td>AllPub</td>\n",
              "      <td>Inside</td>\n",
              "      <td>Gtl</td>\n",
              "      <td>Mitchel</td>\n",
              "      <td>Norm</td>\n",
              "      <td>Norm</td>\n",
              "      <td>1Fam</td>\n",
              "      <td>SFoyer</td>\n",
              "      <td>5</td>\n",
              "      <td>5</td>\n",
              "      <td>1992</td>\n",
              "      <td>1992</td>\n",
              "      <td>Gable</td>\n",
              "      <td>CompShg</td>\n",
              "      <td>HdBoard</td>\n",
              "      <td>Wd Shng</td>\n",
              "      <td>None</td>\n",
              "      <td>0.0</td>\n",
              "      <td>TA</td>\n",
              "      <td>TA</td>\n",
              "      <td>PConc</td>\n",
              "      <td>Gd</td>\n",
              "      <td>TA</td>\n",
              "      <td>Av</td>\n",
              "      <td>GLQ</td>\n",
              "      <td>337.0</td>\n",
              "      <td>Unf</td>\n",
              "      <td>0.0</td>\n",
              "      <td>575.0</td>\n",
              "      <td>912.0</td>\n",
              "      <td>GasA</td>\n",
              "      <td>...</td>\n",
              "      <td>Y</td>\n",
              "      <td>SBrkr</td>\n",
              "      <td>970</td>\n",
              "      <td>0</td>\n",
              "      <td>0</td>\n",
              "      <td>970</td>\n",
              "      <td>0.0</td>\n",
              "      <td>1.0</td>\n",
              "      <td>1</td>\n",
              "      <td>0</td>\n",
              "      <td>3</td>\n",
              "      <td>1</td>\n",
              "      <td>TA</td>\n",
              "      <td>6</td>\n",
              "      <td>Typ</td>\n",
              "      <td>0</td>\n",
              "      <td>NaN</td>\n",
              "      <td>NaN</td>\n",
              "      <td>NaN</td>\n",
              "      <td>NaN</td>\n",
              "      <td>0.0</td>\n",
              "      <td>0.0</td>\n",
              "      <td>NaN</td>\n",
              "      <td>NaN</td>\n",
              "      <td>Y</td>\n",
              "      <td>80</td>\n",
              "      <td>32</td>\n",
              "      <td>0</td>\n",
              "      <td>0</td>\n",
              "      <td>0</td>\n",
              "      <td>0</td>\n",
              "      <td>NaN</td>\n",
              "      <td>MnPrv</td>\n",
              "      <td>Shed</td>\n",
              "      <td>700</td>\n",
              "      <td>7</td>\n",
              "      <td>2006</td>\n",
              "      <td>WD</td>\n",
              "      <td>Normal</td>\n",
              "      <td>NaN</td>\n",
              "    </tr>\n",
              "    <tr>\n",
              "      <th>2918</th>\n",
              "      <td>2919</td>\n",
              "      <td>60</td>\n",
              "      <td>RL</td>\n",
              "      <td>74.0</td>\n",
              "      <td>9627</td>\n",
              "      <td>Pave</td>\n",
              "      <td>NaN</td>\n",
              "      <td>Reg</td>\n",
              "      <td>Lvl</td>\n",
              "      <td>AllPub</td>\n",
              "      <td>Inside</td>\n",
              "      <td>Mod</td>\n",
              "      <td>Mitchel</td>\n",
              "      <td>Norm</td>\n",
              "      <td>Norm</td>\n",
              "      <td>1Fam</td>\n",
              "      <td>2Story</td>\n",
              "      <td>7</td>\n",
              "      <td>5</td>\n",
              "      <td>1993</td>\n",
              "      <td>1994</td>\n",
              "      <td>Gable</td>\n",
              "      <td>CompShg</td>\n",
              "      <td>HdBoard</td>\n",
              "      <td>HdBoard</td>\n",
              "      <td>BrkFace</td>\n",
              "      <td>94.0</td>\n",
              "      <td>TA</td>\n",
              "      <td>TA</td>\n",
              "      <td>PConc</td>\n",
              "      <td>Gd</td>\n",
              "      <td>TA</td>\n",
              "      <td>Av</td>\n",
              "      <td>LwQ</td>\n",
              "      <td>758.0</td>\n",
              "      <td>Unf</td>\n",
              "      <td>0.0</td>\n",
              "      <td>238.0</td>\n",
              "      <td>996.0</td>\n",
              "      <td>GasA</td>\n",
              "      <td>...</td>\n",
              "      <td>Y</td>\n",
              "      <td>SBrkr</td>\n",
              "      <td>996</td>\n",
              "      <td>1004</td>\n",
              "      <td>0</td>\n",
              "      <td>2000</td>\n",
              "      <td>0.0</td>\n",
              "      <td>0.0</td>\n",
              "      <td>2</td>\n",
              "      <td>1</td>\n",
              "      <td>3</td>\n",
              "      <td>1</td>\n",
              "      <td>TA</td>\n",
              "      <td>9</td>\n",
              "      <td>Typ</td>\n",
              "      <td>1</td>\n",
              "      <td>TA</td>\n",
              "      <td>Attchd</td>\n",
              "      <td>1993.0</td>\n",
              "      <td>Fin</td>\n",
              "      <td>3.0</td>\n",
              "      <td>650.0</td>\n",
              "      <td>TA</td>\n",
              "      <td>TA</td>\n",
              "      <td>Y</td>\n",
              "      <td>190</td>\n",
              "      <td>48</td>\n",
              "      <td>0</td>\n",
              "      <td>0</td>\n",
              "      <td>0</td>\n",
              "      <td>0</td>\n",
              "      <td>NaN</td>\n",
              "      <td>NaN</td>\n",
              "      <td>NaN</td>\n",
              "      <td>0</td>\n",
              "      <td>11</td>\n",
              "      <td>2006</td>\n",
              "      <td>WD</td>\n",
              "      <td>Normal</td>\n",
              "      <td>NaN</td>\n",
              "    </tr>\n",
              "  </tbody>\n",
              "</table>\n",
              "<p>2919 rows × 81 columns</p>\n",
              "</div>"
            ],
            "text/plain": [
              "        Id  MSSubClass MSZoning  ...  SaleType  SaleCondition SalePrice\n",
              "0        1          60       RL  ...        WD         Normal  208500.0\n",
              "1        2          20       RL  ...        WD         Normal  181500.0\n",
              "2        3          60       RL  ...        WD         Normal  223500.0\n",
              "3        4          70       RL  ...        WD        Abnorml  140000.0\n",
              "4        5          60       RL  ...        WD         Normal  250000.0\n",
              "...    ...         ...      ...  ...       ...            ...       ...\n",
              "2914  2915         160       RM  ...        WD         Normal       NaN\n",
              "2915  2916         160       RM  ...        WD        Abnorml       NaN\n",
              "2916  2917          20       RL  ...        WD        Abnorml       NaN\n",
              "2917  2918          85       RL  ...        WD         Normal       NaN\n",
              "2918  2919          60       RL  ...        WD         Normal       NaN\n",
              "\n",
              "[2919 rows x 81 columns]"
            ]
          },
          "metadata": {
            "tags": []
          },
          "execution_count": 24
        }
      ]
    },
    {
      "cell_type": "code",
      "metadata": {
        "colab": {
          "base_uri": "https://localhost:8080/",
          "height": 490
        },
        "id": "xPGuttepjekX",
        "outputId": "586d8ef5-6c01-495c-ef9b-cf87d42c7339"
      },
      "source": [
        "# 売却価格のヒストグラム\n",
        "sns.distplot(df['SalePrice'])\n",
        "# 売却価格の概要をみてみる\n",
        "print(df[\"SalePrice\"].describe())\n",
        "print(f\"歪度: {round(df['SalePrice'].skew(),4)}\" )\n",
        "print(f\"尖度: {round(df['SalePrice'].kurt(),4)}\" )"
      ],
      "execution_count": null,
      "outputs": [
        {
          "output_type": "stream",
          "text": [
            "count      1460.000000\n",
            "mean     180921.195890\n",
            "std       79442.502883\n",
            "min       34900.000000\n",
            "25%      129975.000000\n",
            "50%      163000.000000\n",
            "75%      214000.000000\n",
            "max      755000.000000\n",
            "Name: SalePrice, dtype: float64\n",
            "歪度: 1.8829\n",
            "尖度: 6.5363\n"
          ],
          "name": "stdout"
        },
        {
          "output_type": "display_data",
          "data": {
            "image/png": "[encoded data removed]",
            "text/plain": [
              "<Figure size 432x288 with 1 Axes>"
            ]
          },
          "metadata": {
            "tags": [],
            "needs_background": "light"
          }
        }
      ]
    },
    {
      "cell_type": "code",
      "metadata": {
        "colab": {
          "base_uri": "https://localhost:8080/"
        },
        "id": "B8gf2XXeq46K",
        "outputId": "2c9f3859-03b1-43cf-8cb7-ac7169a77a90"
      },
      "source": [
        "all_df.columns"
      ],
      "execution_count": null,
      "outputs": [
        {
          "output_type": "execute_result",
          "data": {
            "text/plain": [
              "Index(['Id', 'MSSubClass', 'MSZoning', 'LotFrontage', 'LotArea', 'Street',\n",
              "       'Alley', 'LotShape', 'LandContour', 'Utilities', 'LotConfig',\n",
              "       'LandSlope', 'Neighborhood', 'Condition1', 'Condition2', 'BldgType',\n",
              "       'HouseStyle', 'OverallQual', 'OverallCond', 'YearBuilt', 'YearRemodAdd',\n",
              "       'RoofStyle', 'RoofMatl', 'Exterior1st', 'Exterior2nd', 'MasVnrType',\n",
              "       'MasVnrArea', 'ExterQual', 'ExterCond', 'Foundation', 'BsmtQual',\n",
              "       'BsmtCond', 'BsmtExposure', 'BsmtFinType1', 'BsmtFinSF1',\n",
              "       'BsmtFinType2', 'BsmtFinSF2', 'BsmtUnfSF', 'TotalBsmtSF', 'Heating',\n",
              "       'HeatingQC', 'CentralAir', 'Electrical', '1stFlrSF', '2ndFlrSF',\n",
              "       'LowQualFinSF', 'GrLivArea', 'BsmtFullBath', 'BsmtHalfBath', 'FullBath',\n",
              "       'HalfBath', 'BedroomAbvGr', 'KitchenAbvGr', 'KitchenQual',\n",
              "       'TotRmsAbvGrd', 'Functional', 'Fireplaces', 'FireplaceQu', 'GarageType',\n",
              "       'GarageYrBlt', 'GarageFinish', 'GarageCars', 'GarageArea', 'GarageQual',\n",
              "       'GarageCond', 'PavedDrive', 'WoodDeckSF', 'OpenPorchSF',\n",
              "       'EnclosedPorch', '3SsnPorch', 'ScreenPorch', 'PoolArea', 'PoolQC',\n",
              "       'Fence', 'MiscFeature', 'MiscVal', 'MoSold', 'YrSold', 'SaleType',\n",
              "       'SaleCondition', 'SalePrice'],\n",
              "      dtype='object')"
            ]
          },
          "metadata": {
            "tags": []
          },
          "execution_count": 26
        }
      ]
    },
    {
      "cell_type": "code",
      "metadata": {
        "id": "-wn89rFF9m_U"
      },
      "source": [
        "def show_missing(df):\n",
        "    missing_list = df.isnull().sum().sort_values(ascending=False) / df.shape[0]\n",
        "    missing_list = missing_list[missing_list>0]\n",
        "\n",
        "    plt.subplots(figsize=(12, 6))\n",
        "    plt.xticks(rotation=90)\n",
        "    sns.barplot(missing_list.index, missing_list.values)"
      ],
      "execution_count": null,
      "outputs": []
    },
    {
      "cell_type": "code",
      "metadata": {
        "colab": {
          "base_uri": "https://localhost:8080/",
          "height": 436
        },
        "id": "GCY58zNqokGv",
        "outputId": "10222433-84b8-4609-f3a0-39a533ae4b8f"
      },
      "source": [
        "show_missing(all_df)"
      ],
      "execution_count": null,
      "outputs": [
        {
          "output_type": "display_data",
          "data": {
            "image/png": "[encoded data removed]",
            "text/plain": [
              "<Figure size 864x432 with 1 Axes>"
            ]
          },
          "metadata": {
            "tags": [],
            "needs_background": "light"
          }
        }
      ]
    },
    {
      "cell_type": "code",
      "metadata": {
        "id": "ytO7t5Nqj0UC"
      },
      "source": [
        "# 変数の型ごとに欠損値の扱いが異なるため、変数ごとに処理\n",
        "for column in all_df.columns:\n",
        "    # dtypeがobjectの場合、文字列の変数\n",
        "    if all_df[column].dtype=='O':\n",
        "        all_df[column] = all_df[column].fillna('None')\n",
        "    # dtypeがint , floatの場合、数字の変数\n",
        "    else:\n",
        "        all_df[column] = all_df[column].fillna(0)"
      ],
      "execution_count": null,
      "outputs": []
    },
    {
      "cell_type": "code",
      "metadata": {
        "colab": {
          "base_uri": "https://localhost:8080/"
        },
        "id": "6lPi23nYEdl1",
        "outputId": "e89ad00b-13ce-4915-fff1-cf7ae788b38d"
      },
      "source": [
        "all_df.isnull().sum()"
      ],
      "execution_count": null,
      "outputs": [
        {
          "output_type": "execute_result",
          "data": {
            "text/plain": [
              "Id                  0\n",
              "MSSubClass          0\n",
              "MSZoning            4\n",
              "LotFrontage       486\n",
              "LotArea             0\n",
              "                 ... \n",
              "MoSold              0\n",
              "YrSold              0\n",
              "SaleType            1\n",
              "SaleCondition       0\n",
              "SalePrice        1459\n",
              "Length: 81, dtype: int64"
            ]
          },
          "metadata": {
            "tags": []
          },
          "execution_count": 29
        }
      ]
    },
    {
      "cell_type": "code",
      "metadata": {
        "colab": {
          "base_uri": "https://localhost:8080/"
        },
        "id": "VUkU9LDEsZoU",
        "outputId": "74ec83c9-b3e1-4138-f894-91f9c3353b42"
      },
      "source": [
        "#サンプル数、フィーチャー数の確認\n",
        "print(\"The train data size before dropping Id feature is : {} \".format(df.shape))\n",
        "print(\"The test data size before dropping Id feature is : {} \".format(df_test.shape))\n",
        "\n",
        "#Save the 'Id' column\n",
        "train_ID = df['Id']\n",
        "test_ID = df_test['Id']\n",
        "\n",
        "#「Id」列は予測処理には不要なので削除\n",
        "df.drop(\"Id\", axis = 1, inplace = True)\n",
        "df_test.drop(\"Id\", axis = 1, inplace = True)\n",
        "\n",
        "#「Id」変数を削除した後、データサイズを再確認する\n",
        "print(\"\\nThe train data size after dropping Id feature is : {} \".format(df.shape)) \n",
        "print(\"The test data size after dropping Id feature is : {} \".format(df_test.shape))"
      ],
      "execution_count": null,
      "outputs": [
        {
          "output_type": "stream",
          "text": [
            "The train data size before dropping Id feature is : (1460, 81) \n",
            "The test data size before dropping Id feature is : (1459, 80) \n",
            "\n",
            "The train data size after dropping Id feature is : (1460, 80) \n",
            "The test data size after dropping Id feature is : (1459, 79) \n"
          ],
          "name": "stdout"
        }
      ]
    },
    {
      "cell_type": "code",
      "metadata": {
        "colab": {
          "base_uri": "https://localhost:8080/",
          "height": 282
        },
        "id": "JqyVBbNMtT9F",
        "outputId": "dfaabbfd-0829-4496-97cf-4bc03ccd30db"
      },
      "source": [
        "#GrLIvAreaとSalePriceとの相関\n",
        "fig, ax = plt.subplots()\n",
        "ax.scatter(x = df['GrLivArea'], y = df['SalePrice'])\n",
        "plt.ylabel('SalePrice', fontsize=13)\n",
        "plt.xlabel('GrLivArea', fontsize=13)\n",
        "plt.show()"
      ],
      "execution_count": null,
      "outputs": [
        {
          "output_type": "display_data",
          "data": {
            "image/png": "[encoded data removed]",
            "text/plain": [
              "<Figure size 432x288 with 1 Axes>"
            ]
          },
          "metadata": {
            "tags": [],
            "needs_background": "light"
          }
        }
      ]
    },
    {
      "cell_type": "code",
      "metadata": {
        "colab": {
          "base_uri": "https://localhost:8080/",
          "height": 282
        },
        "id": "-VAFumC6tcqO",
        "outputId": "e28644c4-b60c-403f-8e94-bcf2bb460f69"
      },
      "source": [
        "#外れ値を削除したグラフ\n",
        "df = df.drop(df[(df['GrLivArea']>4000) & (df['SalePrice']<300000)].index)\n",
        "\n",
        "#Check the graphic again\n",
        "fig, ax = plt.subplots()\n",
        "ax.scatter(df['GrLivArea'], df['SalePrice'])\n",
        "plt.ylabel('SalePrice', fontsize=13)\n",
        "plt.xlabel('GrLivArea', fontsize=13)\n",
        "plt.show()"
      ],
      "execution_count": null,
      "outputs": [
        {
          "output_type": "display_data",
          "data": {
            "image/png": "[encoded data removed]",
            "text/plain": [
              "<Figure size 432x288 with 1 Axes>"
            ]
          },
          "metadata": {
            "tags": [],
            "needs_background": "light"
          }
        }
      ]
    },
    {
      "cell_type": "code",
      "metadata": {
        "colab": {
          "base_uri": "https://localhost:8080/",
          "height": 627
        },
        "id": "SwBPGcCGt_e1",
        "outputId": "a1c03845-f213-4dc3-9420-061025739e62"
      },
      "source": [
        "sns.distplot(df['SalePrice'] , fit=norm);\n",
        "\n",
        "# 関数で使用するフィットパラメータを取得\n",
        "(mu, sigma) = norm.fit(df['SalePrice'])\n",
        "print( '\\n mu = {:.2f} and sigma = {:.2f}\\n'.format(mu, sigma))\n",
        "\n",
        "#分布をプロット\n",
        "plt.legend(['Normal dist. ($\\mu=$ {:.2f} and $\\sigma=$ {:.2f} )'.format(mu, sigma)],\n",
        "            loc='best')\n",
        "plt.ylabel('Frequency')\n",
        "plt.title('SalePrice distribution')\n",
        "\n",
        "#QQ-plotも表示\n",
        "fig = plt.figure()\n",
        "res = stats.probplot(df['SalePrice'], plot=plt)\n",
        "plt.show()"
      ],
      "execution_count": null,
      "outputs": [
        {
          "output_type": "stream",
          "text": [
            "\n",
            " mu = 180932.92 and sigma = 79467.79\n",
            "\n"
          ],
          "name": "stdout"
        },
        {
          "output_type": "display_data",
          "data": {
            "image/png": "[encoded data removed]",
            "text/plain": [
              "<Figure size 432x288 with 1 Axes>"
            ]
          },
          "metadata": {
            "tags": []
          }
        },
        {
          "output_type": "display_data",
          "data": {
            "image/png": "[encoded data removed]",
            "text/plain": [
              "<Figure size 432x288 with 1 Axes>"
            ]
          },
          "metadata": {
            "tags": []
          }
        }
      ]
    },
    {
      "cell_type": "markdown",
      "metadata": {
        "id": "2z9PsjStOBgw"
      },
      "source": [
        "左に偏っているので正規分布のデータとするように対数変換を行う<br>\n",
        "対数変換については<a herf=\"https://www.kaggle.com/pmarcelino/comprehensive-data-exploration-with-python\">Comprehensive data exploration with Python</a>がわかりやすい"
      ]
    },
    {
      "cell_type": "code",
      "metadata": {
        "colab": {
          "base_uri": "https://localhost:8080/",
          "height": 627
        },
        "id": "0-hVSFdXuQ-z",
        "outputId": "4a087955-4eb9-4303-e2f0-8d4418fcf934"
      },
      "source": [
        "#対数変換\n",
        "df[\"SalePrice\"] = np.log1p(df[\"SalePrice\"])\n",
        "\n",
        "#新しいディストリビューションを確認\n",
        "sns.distplot(df['SalePrice'] , fit=norm);\n",
        "\n",
        "# 関数が使用するフィットパラメータを取得\n",
        "(mu, sigma) = norm.fit(df['SalePrice'])\n",
        "print( '\\n mu = {:.2f} and sigma = {:.2f}\\n'.format(mu, sigma))\n",
        "\n",
        "#Now plot the distribution\n",
        "plt.legend(['Normal dist. ($\\mu=$ {:.2f} and $\\sigma=$ {:.2f} )'.format(mu, sigma)],\n",
        "            loc='best')\n",
        "plt.ylabel('Frequency')\n",
        "plt.title('SalePrice distribution')\n",
        "\n",
        "#Get also the QQ-plot\n",
        "fig = plt.figure()\n",
        "res = stats.probplot(df['SalePrice'], plot=plt)\n",
        "plt.show()"
      ],
      "execution_count": null,
      "outputs": [
        {
          "output_type": "stream",
          "text": [
            "\n",
            " mu = 12.02 and sigma = 0.40\n",
            "\n"
          ],
          "name": "stdout"
        },
        {
          "output_type": "display_data",
          "data": {
            "image/png": "[encoded data removed]",
            "text/plain": [
              "<Figure size 432x288 with 1 Axes>"
            ]
          },
          "metadata": {
            "tags": []
          }
        },
        {
          "output_type": "display_data",
          "data": {
            "image/png": "[encoded data removed]",
            "text/plain": [
              "<Figure size 432x288 with 1 Axes>"
            ]
          },
          "metadata": {
            "tags": []
          }
        }
      ]
    },
    {
      "cell_type": "code",
      "metadata": {
        "colab": {
          "base_uri": "https://localhost:8080/"
        },
        "id": "X6oH7wQUvKM4",
        "outputId": "2d72fc5d-0840-450d-d1ae-1578525f1d66"
      },
      "source": [
        "ntrain = df.shape[0]\n",
        "ntest = df_test.shape[0]\n",
        "y_train = df.SalePrice.values\n",
        "all_data = pd.concat((df, df_test)).reset_index(drop=True)\n",
        "all_data.drop(['SalePrice'], axis=1, inplace=True)\n",
        "print(\"all_data size is : {}\".format(all_data.shape))"
      ],
      "execution_count": null,
      "outputs": [
        {
          "output_type": "stream",
          "text": [
            "all_data size is : (2917, 79)\n"
          ],
          "name": "stdout"
        }
      ]
    },
    {
      "cell_type": "code",
      "metadata": {
        "colab": {
          "base_uri": "https://localhost:8080/",
          "height": 675
        },
        "id": "NvElUEjkvZxD",
        "outputId": "45c795b5-a542-490c-9a07-4eb27ff2b66c"
      },
      "source": [
        "all_data_na = (all_data.isnull().sum() / len(all_data)) * 100\n",
        "all_data_na = all_data_na.drop(all_data_na[all_data_na == 0].index).sort_values(ascending=False)[:30]\n",
        "missing_data = pd.DataFrame({'Missing Ratio' :all_data_na})\n",
        "missing_data.head(20)"
      ],
      "execution_count": null,
      "outputs": [
        {
          "output_type": "execute_result",
          "data": {
            "text/html": [
              "<div>\n",
              "<style scoped>\n",
              "    .dataframe tbody tr th:only-of-type {\n",
              "        vertical-align: middle;\n",
              "    }\n",
              "\n",
              "    .dataframe tbody tr th {\n",
              "        vertical-align: top;\n",
              "    }\n",
              "\n",
              "    .dataframe thead th {\n",
              "        text-align: right;\n",
              "    }\n",
              "</style>\n",
              "<table border=\"1\" class=\"dataframe\">\n",
              "  <thead>\n",
              "    <tr style=\"text-align: right;\">\n",
              "      <th></th>\n",
              "      <th>Missing Ratio</th>\n",
              "    </tr>\n",
              "  </thead>\n",
              "  <tbody>\n",
              "    <tr>\n",
              "      <th>PoolQC</th>\n",
              "      <td>99.691</td>\n",
              "    </tr>\n",
              "    <tr>\n",
              "      <th>MiscFeature</th>\n",
              "      <td>96.400</td>\n",
              "    </tr>\n",
              "    <tr>\n",
              "      <th>Alley</th>\n",
              "      <td>93.212</td>\n",
              "    </tr>\n",
              "    <tr>\n",
              "      <th>Fence</th>\n",
              "      <td>80.425</td>\n",
              "    </tr>\n",
              "    <tr>\n",
              "      <th>FireplaceQu</th>\n",
              "      <td>48.680</td>\n",
              "    </tr>\n",
              "    <tr>\n",
              "      <th>LotFrontage</th>\n",
              "      <td>16.661</td>\n",
              "    </tr>\n",
              "    <tr>\n",
              "      <th>GarageFinish</th>\n",
              "      <td>5.451</td>\n",
              "    </tr>\n",
              "    <tr>\n",
              "      <th>GarageYrBlt</th>\n",
              "      <td>5.451</td>\n",
              "    </tr>\n",
              "    <tr>\n",
              "      <th>GarageQual</th>\n",
              "      <td>5.451</td>\n",
              "    </tr>\n",
              "    <tr>\n",
              "      <th>GarageCond</th>\n",
              "      <td>5.451</td>\n",
              "    </tr>\n",
              "    <tr>\n",
              "      <th>GarageType</th>\n",
              "      <td>5.382</td>\n",
              "    </tr>\n",
              "    <tr>\n",
              "      <th>BsmtExposure</th>\n",
              "      <td>2.811</td>\n",
              "    </tr>\n",
              "    <tr>\n",
              "      <th>BsmtCond</th>\n",
              "      <td>2.811</td>\n",
              "    </tr>\n",
              "    <tr>\n",
              "      <th>BsmtQual</th>\n",
              "      <td>2.777</td>\n",
              "    </tr>\n",
              "    <tr>\n",
              "      <th>BsmtFinType2</th>\n",
              "      <td>2.743</td>\n",
              "    </tr>\n",
              "    <tr>\n",
              "      <th>BsmtFinType1</th>\n",
              "      <td>2.708</td>\n",
              "    </tr>\n",
              "    <tr>\n",
              "      <th>MasVnrType</th>\n",
              "      <td>0.823</td>\n",
              "    </tr>\n",
              "    <tr>\n",
              "      <th>MasVnrArea</th>\n",
              "      <td>0.788</td>\n",
              "    </tr>\n",
              "    <tr>\n",
              "      <th>MSZoning</th>\n",
              "      <td>0.137</td>\n",
              "    </tr>\n",
              "    <tr>\n",
              "      <th>BsmtFullBath</th>\n",
              "      <td>0.069</td>\n",
              "    </tr>\n",
              "  </tbody>\n",
              "</table>\n",
              "</div>"
            ],
            "text/plain": [
              "              Missing Ratio\n",
              "PoolQC               99.691\n",
              "MiscFeature          96.400\n",
              "Alley                93.212\n",
              "Fence                80.425\n",
              "FireplaceQu          48.680\n",
              "LotFrontage          16.661\n",
              "GarageFinish          5.451\n",
              "GarageYrBlt           5.451\n",
              "GarageQual            5.451\n",
              "GarageCond            5.451\n",
              "GarageType            5.382\n",
              "BsmtExposure          2.811\n",
              "BsmtCond              2.811\n",
              "BsmtQual              2.777\n",
              "BsmtFinType2          2.743\n",
              "BsmtFinType1          2.708\n",
              "MasVnrType            0.823\n",
              "MasVnrArea            0.788\n",
              "MSZoning              0.137\n",
              "BsmtFullBath          0.069"
            ]
          },
          "metadata": {
            "tags": []
          },
          "execution_count": 44
        }
      ]
    },
    {
      "cell_type": "code",
      "metadata": {
        "colab": {
          "base_uri": "https://localhost:8080/",
          "height": 837
        },
        "id": "_oRuNotcvhDc",
        "outputId": "d2a1e985-5665-420c-e2bb-ff9e67814e47"
      },
      "source": [
        "f, ax = plt.subplots(figsize=(15, 12))\n",
        "plt.xticks(rotation='90')\n",
        "sns.barplot(x=all_data_na.index, y=all_data_na)\n",
        "plt.xlabel('Features', fontsize=15)\n",
        "plt.ylabel('Percent of missing values', fontsize=15)\n",
        "plt.title('Percent missing data by feature', fontsize=15)\n"
      ],
      "execution_count": null,
      "outputs": [
        {
          "output_type": "execute_result",
          "data": {
            "text/plain": [
              "Text(0.5, 1.0, 'Percent missing data by feature')"
            ]
          },
          "metadata": {
            "tags": []
          },
          "execution_count": 45
        },
        {
          "output_type": "display_data",
          "data": {
            "image/png": "[encoded data removed]",
            "text/plain": [
              "<Figure size 1080x864 with 1 Axes>"
            ]
          },
          "metadata": {
            "tags": []
          }
        }
      ]
    },
    {
      "cell_type": "markdown",
      "metadata": {
        "id": "3YCMsMtGQeBC"
      },
      "source": [
        "Correlation matrixについても<a herf=\"https://www.kaggle.com/pmarcelino/comprehensive-data-exploration-with-python\">Comprehensive data exploration with Python</a>をみて見るとよく分かる\n"
      ]
    },
    {
      "cell_type": "code",
      "metadata": {
        "colab": {
          "base_uri": "https://localhost:8080/",
          "height": 621
        },
        "id": "Esq-tChivmfz",
        "outputId": "edd1ce2c-a063-4fe6-c835-91eecee7d80e"
      },
      "source": [
        "#Correlation map to see how features are correlated with SalePrice\n",
        "corrmat = df.corr()\n",
        "plt.subplots(figsize=(12,9))\n",
        "sns.heatmap(corrmat, vmax=0.9, square=True)"
      ],
      "execution_count": null,
      "outputs": [
        {
          "output_type": "execute_result",
          "data": {
            "text/plain": [
              "<matplotlib.axes._subplots.AxesSubplot at 0x7f76614bd1d0>"
            ]
          },
          "metadata": {
            "tags": []
          },
          "execution_count": 47
        },
        {
          "output_type": "display_data",
          "data": {
            "image/png": "[encoded data removed]",
            "text/plain": [
              "<Figure size 864x648 with 2 Axes>"
            ]
          },
          "metadata": {
            "tags": []
          }
        }
      ]
    },
    {
      "cell_type": "markdown",
      "metadata": {
        "id": "DukPYZxVRJpI"
      },
      "source": [
        "欠損データの補完、削除を行う\n"
      ]
    },
    {
      "cell_type": "code",
      "metadata": {
        "id": "g30B1x4vvoYr"
      },
      "source": [
        "#PoolQC : データの説明によると、NAは「プールがない」という意味だそうです。欠損値の割合が99%と非常に大きく、一般的にプールがない家が多いことを考えると、納得できます。\n",
        "\n",
        "all_data[\"PoolQC\"] = all_data[\"PoolQC\"].fillna(\"None\")"
      ],
      "execution_count": null,
      "outputs": []
    },
    {
      "cell_type": "code",
      "metadata": {
        "id": "ybMS6eswv7iQ"
      },
      "source": [
        "#no misk feature\n",
        "all_data[\"MiscFeature\"] = all_data[\"MiscFeature\"].fillna(\"None\")"
      ],
      "execution_count": null,
      "outputs": []
    },
    {
      "cell_type": "code",
      "metadata": {
        "id": "9sIr2f37v54v"
      },
      "source": [
        "#no alley access\n",
        "all_data[\"Alley\"] = all_data[\"Alley\"].fillna(\"None\")"
      ],
      "execution_count": null,
      "outputs": []
    },
    {
      "cell_type": "code",
      "metadata": {
        "id": "IaUhrwlUwGUi"
      },
      "source": [
        "#no fence\n",
        "all_data[\"Fence\"] = all_data[\"Fence\"].fillna(\"None\")"
      ],
      "execution_count": null,
      "outputs": []
    },
    {
      "cell_type": "code",
      "metadata": {
        "id": "awn_rr_gwHSJ"
      },
      "source": [
        "#no fireplace\n",
        "all_data[\"FireplaceQu\"] = all_data[\"FireplaceQu\"].fillna(\"None\")"
      ],
      "execution_count": null,
      "outputs": []
    },
    {
      "cell_type": "code",
      "metadata": {
        "id": "KqLzQGU7wJjs"
      },
      "source": [
        "#Group by neighborhood and fill in missing value by the median LotFrontage of all the neighborhood\n",
        "all_data[\"LotFrontage\"] = all_data.groupby(\"Neighborhood\")[\"LotFrontage\"].transform(\n",
        "    lambda x: x.fillna(x.median()))"
      ],
      "execution_count": null,
      "outputs": []
    },
    {
      "cell_type": "code",
      "metadata": {
        "id": "KsKj7_07wfyO"
      },
      "source": [
        "#欠損データをNoneに置き換える\n",
        "for col in ('GarageType', 'GarageFinish', 'GarageQual', 'GarageCond'):\n",
        "    all_data[col] = all_data[col].fillna('None')"
      ],
      "execution_count": null,
      "outputs": []
    },
    {
      "cell_type": "code",
      "metadata": {
        "id": "F4EyEf4qwjnY"
      },
      "source": [
        "#欠損データをNoneに置き換える(ガレージがない＝ガレージに車がないということ)\n",
        "for col in ('GarageYrBlt', 'GarageArea', 'GarageCars'):\n",
        "    all_data[col] = all_data[col].fillna(0)"
      ],
      "execution_count": null,
      "outputs": []
    },
    {
      "cell_type": "code",
      "metadata": {
        "id": "GNLcFa0vwp9h"
      },
      "source": [
        "#欠損値は、地下室がない場合はゼロである\n",
        "for col in ('BsmtFinSF1', 'BsmtFinSF2', 'BsmtUnfSF','TotalBsmtSF', 'BsmtFullBath', 'BsmtHalfBath'):\n",
        "    all_data[col] = all_data[col].fillna(0)"
      ],
      "execution_count": null,
      "outputs": []
    },
    {
      "cell_type": "code",
      "metadata": {
        "id": "U5jyrVByyPs0"
      },
      "source": [
        "#地下室関連の特徴について、NaNは地下室がないことを意味する\n",
        "for col in ('BsmtQual', 'BsmtCond', 'BsmtExposure', 'BsmtFinType1', 'BsmtFinType2'):\n",
        "    all_data[col] = all_data[col].fillna('None')"
      ],
      "execution_count": null,
      "outputs": []
    },
    {
      "cell_type": "code",
      "metadata": {
        "id": "xArJ06gNyp1N"
      },
      "source": [
        "#NA は、これらの家に石積みのベニヤがないことを意味している可能性が高い\n",
        "all_data[\"MasVnrType\"] = all_data[\"MasVnrType\"].fillna(\"None\")\n",
        "all_data[\"MasVnrArea\"] = all_data[\"MasVnrArea\"].fillna(0)"
      ],
      "execution_count": null,
      "outputs": []
    },
    {
      "cell_type": "code",
      "metadata": {
        "id": "Sxf8Yi43yvlL"
      },
      "source": [
        "#RL'が圧倒的に多い値です。そのため、不足している値を'RL'で埋めることができます。\n",
        "all_data['MSZoning'] = all_data['MSZoning'].fillna(all_data['MSZoning'].mode()[0])"
      ],
      "execution_count": null,
      "outputs": []
    },
    {
      "cell_type": "code",
      "metadata": {
        "id": "h4pdVnr-y5aE"
      },
      "source": [
        "#役に立たないモデルを削除\n",
        "all_data = all_data.drop(['Utilities'], axis=1)"
      ],
      "execution_count": null,
      "outputs": []
    },
    {
      "cell_type": "code",
      "metadata": {
        "id": "VHusc_ObzHOi"
      },
      "source": [
        "#機能 : データの説明では、NAは典型的なものを意味します。\n",
        "all_data[\"Functional\"] = all_data[\"Functional\"].fillna(\"Typ\")"
      ],
      "execution_count": null,
      "outputs": []
    },
    {
      "cell_type": "code",
      "metadata": {
        "id": "mscj9l9gzQ2g"
      },
      "source": [
        "#この機能はほとんどが「SBrkr」なので、それを欠損値に設定することができます\n",
        "all_data['Electrical'] = all_data['Electrical'].fillna(all_data['Electrical'].mode()[0])"
      ],
      "execution_count": null,
      "outputs": []
    },
    {
      "cell_type": "code",
      "metadata": {
        "id": "qYsZ890Nzf6A"
      },
      "source": [
        "#NA値は1つだけで、Electricalと同じように、KitchenQualの欠損値に（最も頻度の高い）「TA」を設定しています。\n",
        "all_data['KitchenQual'] = all_data['KitchenQual'].fillna(all_data['KitchenQual'].mode()[0])"
      ],
      "execution_count": null,
      "outputs": []
    },
    {
      "cell_type": "code",
      "metadata": {
        "id": "EzKJQQD6zswZ"
      },
      "source": [
        "#1つだけ欠損値があります。最も一般的な文字列で代用する\n",
        "all_data['Exterior1st'] = all_data['Exterior1st'].fillna(all_data['Exterior1st'].mode()[0])\n",
        "all_data['Exterior2nd'] = all_data['Exterior2nd'].fillna(all_data['Exterior2nd'].mode()[0])"
      ],
      "execution_count": null,
      "outputs": []
    },
    {
      "cell_type": "code",
      "metadata": {
        "id": "sfcINuqZz3Ce"
      },
      "source": [
        "#販売タイプ。最も頻度の高い \"WD \"を入力\n",
        "all_data['SaleType'] = all_data['SaleType'].fillna(all_data['SaleType'].mode()[0])"
      ],
      "execution_count": null,
      "outputs": []
    },
    {
      "cell_type": "code",
      "metadata": {
        "id": "GGZWfH4Tz6Zf"
      },
      "source": [
        "#NaはNo building classを意味する可能性が高い。欠損値をNoneに置き換えることができる。\n",
        "all_data['MSSubClass'] = all_data['MSSubClass'].fillna(\"None\")"
      ],
      "execution_count": null,
      "outputs": []
    },
    {
      "cell_type": "code",
      "metadata": {
        "colab": {
          "base_uri": "https://localhost:8080/",
          "height": 49
        },
        "id": "6swBlCfuz8SL",
        "outputId": "1814e1f0-ec30-4356-871d-c7680c237e49"
      },
      "source": [
        "#Check remaining missing values if any \n",
        "all_data_na = (all_data.isnull().sum() / len(all_data)) * 100\n",
        "all_data_na = all_data_na.drop(all_data_na[all_data_na == 0].index).sort_values(ascending=False)\n",
        "missing_data = pd.DataFrame({'Missing Ratio' :all_data_na})\n",
        "missing_data.head()"
      ],
      "execution_count": null,
      "outputs": [
        {
          "output_type": "execute_result",
          "data": {
            "text/html": [
              "<div>\n",
              "<style scoped>\n",
              "    .dataframe tbody tr th:only-of-type {\n",
              "        vertical-align: middle;\n",
              "    }\n",
              "\n",
              "    .dataframe tbody tr th {\n",
              "        vertical-align: top;\n",
              "    }\n",
              "\n",
              "    .dataframe thead th {\n",
              "        text-align: right;\n",
              "    }\n",
              "</style>\n",
              "<table border=\"1\" class=\"dataframe\">\n",
              "  <thead>\n",
              "    <tr style=\"text-align: right;\">\n",
              "      <th></th>\n",
              "      <th>Missing Ratio</th>\n",
              "    </tr>\n",
              "  </thead>\n",
              "  <tbody>\n",
              "  </tbody>\n",
              "</table>\n",
              "</div>"
            ],
            "text/plain": [
              "Empty DataFrame\n",
              "Columns: [Missing Ratio]\n",
              "Index: []"
            ]
          },
          "metadata": {
            "tags": []
          },
          "execution_count": 68
        }
      ]
    },
    {
      "cell_type": "code",
      "metadata": {
        "id": "BljoCnUc0XwO"
      },
      "source": [
        "#MSSubClass=The building class\n",
        "all_data['MSSubClass'] = all_data['MSSubClass'].apply(str)\n",
        "\n",
        "\n",
        "#Changing OverallCond into a categorical variable\n",
        "all_data['OverallCond'] = all_data['OverallCond'].astype(str)\n",
        "\n",
        "\n",
        "#Year and month sold are transformed into categorical features.\n",
        "all_data['YrSold'] = all_data['YrSold'].astype(str)\n",
        "all_data['MoSold'] = all_data['MoSold'].astype(str)\n"
      ],
      "execution_count": null,
      "outputs": []
    },
    {
      "cell_type": "code",
      "metadata": {
        "colab": {
          "base_uri": "https://localhost:8080/"
        },
        "id": "Tv9pWlXM0tR5",
        "outputId": "74961913-e726-4d2a-87bc-a65fa4678359"
      },
      "source": [
        "from sklearn.preprocessing import LabelEncoder\n",
        "cols = ('FireplaceQu', 'BsmtQual', 'BsmtCond', 'GarageQual', 'GarageCond', \n",
        "        'ExterQual', 'ExterCond','HeatingQC', 'PoolQC', 'KitchenQual', 'BsmtFinType1', \n",
        "        'BsmtFinType2', 'Functional', 'Fence', 'BsmtExposure', 'GarageFinish', 'LandSlope',\n",
        "        'LotShape', 'PavedDrive', 'Street', 'Alley', 'CentralAir', 'MSSubClass', 'OverallCond', \n",
        "        'YrSold', 'MoSold')\n",
        "# process columns, apply LabelEncoder to categorical features\n",
        "for c in cols:\n",
        "    lbl = LabelEncoder() \n",
        "    lbl.fit(list(all_data[c].values)) \n",
        "    all_data[c] = lbl.transform(list(all_data[c].values))\n",
        "\n",
        "# shape        \n",
        "print('Shape all_data: {}'.format(all_data.shape))"
      ],
      "execution_count": null,
      "outputs": [
        {
          "output_type": "stream",
          "text": [
            "Shape all_data: (2917, 78)\n"
          ],
          "name": "stdout"
        }
      ]
    },
    {
      "cell_type": "code",
      "metadata": {
        "id": "k0aw_LQH0vdR"
      },
      "source": [
        "# Adding 合計の家面積 \n",
        "all_data['TotalSF'] = all_data['TotalBsmtSF'] + all_data['1stFlrSF'] + all_data['2ndFlrSF']"
      ],
      "execution_count": null,
      "outputs": []
    },
    {
      "cell_type": "code",
      "metadata": {
        "colab": {
          "base_uri": "https://localhost:8080/",
          "height": 416
        },
        "id": "WmzUPwpo1IGh",
        "outputId": "88565738-d495-44fb-ef0d-b45065626f42"
      },
      "source": [
        "numeric_feats = all_data.dtypes[all_data.dtypes != \"object\"].index\n",
        "\n",
        "# すべての数値機能のskewを確認\n",
        "skewed_feats = all_data[numeric_feats].apply(lambda x: skew(x.dropna())).sort_values(ascending=False)\n",
        "print(\"\\nSkew in numerical features: \\n\")\n",
        "skewness = pd.DataFrame({'Skew' :skewed_feats})\n",
        "skewness.head(10)"
      ],
      "execution_count": null,
      "outputs": [
        {
          "output_type": "stream",
          "text": [
            "\n",
            "Skew in numerical features: \n",
            "\n"
          ],
          "name": "stdout"
        },
        {
          "output_type": "execute_result",
          "data": {
            "text/html": [
              "<div>\n",
              "<style scoped>\n",
              "    .dataframe tbody tr th:only-of-type {\n",
              "        vertical-align: middle;\n",
              "    }\n",
              "\n",
              "    .dataframe tbody tr th {\n",
              "        vertical-align: top;\n",
              "    }\n",
              "\n",
              "    .dataframe thead th {\n",
              "        text-align: right;\n",
              "    }\n",
              "</style>\n",
              "<table border=\"1\" class=\"dataframe\">\n",
              "  <thead>\n",
              "    <tr style=\"text-align: right;\">\n",
              "      <th></th>\n",
              "      <th>Skew</th>\n",
              "    </tr>\n",
              "  </thead>\n",
              "  <tbody>\n",
              "    <tr>\n",
              "      <th>MiscVal</th>\n",
              "      <td>21.940</td>\n",
              "    </tr>\n",
              "    <tr>\n",
              "      <th>PoolArea</th>\n",
              "      <td>17.689</td>\n",
              "    </tr>\n",
              "    <tr>\n",
              "      <th>LotArea</th>\n",
              "      <td>13.109</td>\n",
              "    </tr>\n",
              "    <tr>\n",
              "      <th>LowQualFinSF</th>\n",
              "      <td>12.085</td>\n",
              "    </tr>\n",
              "    <tr>\n",
              "      <th>3SsnPorch</th>\n",
              "      <td>11.372</td>\n",
              "    </tr>\n",
              "    <tr>\n",
              "      <th>LandSlope</th>\n",
              "      <td>4.973</td>\n",
              "    </tr>\n",
              "    <tr>\n",
              "      <th>KitchenAbvGr</th>\n",
              "      <td>4.301</td>\n",
              "    </tr>\n",
              "    <tr>\n",
              "      <th>BsmtFinSF2</th>\n",
              "      <td>4.145</td>\n",
              "    </tr>\n",
              "    <tr>\n",
              "      <th>EnclosedPorch</th>\n",
              "      <td>4.002</td>\n",
              "    </tr>\n",
              "    <tr>\n",
              "      <th>ScreenPorch</th>\n",
              "      <td>3.945</td>\n",
              "    </tr>\n",
              "  </tbody>\n",
              "</table>\n",
              "</div>"
            ],
            "text/plain": [
              "                Skew\n",
              "MiscVal       21.940\n",
              "PoolArea      17.689\n",
              "LotArea       13.109\n",
              "LowQualFinSF  12.085\n",
              "3SsnPorch     11.372\n",
              "LandSlope      4.973\n",
              "KitchenAbvGr   4.301\n",
              "BsmtFinSF2     4.145\n",
              "EnclosedPorch  4.002\n",
              "ScreenPorch    3.945"
            ]
          },
          "metadata": {
            "tags": []
          },
          "execution_count": 72
        }
      ]
    },
    {
      "cell_type": "markdown",
      "metadata": {
        "id": "yDsCOLxo1U1R"
      },
      "source": [
        "(高度に)傾いた特徴量のBox Cox変換\n",
        "\n",
        "1+x の Box-Cox 変換を計算する scipy 関数 boxcox1p を使用します。\n",
        "\n",
        "λ=0に設定することは、上記で対象変数に使用したlog1pと同等であることに注意してください。\n",
        "\n",
        "Box Cox 変換の詳細については，<a href=\"https://onlinestatbook.com/2/transformations/box-cox.html\">このページ</a>と <a href=\"https://docs.scipy.org/doc/scipy-0.19.0/reference/generated/scipy.special.boxcox1p.html\">scipy 関数</a>のページを参照\n",
        "\n"
      ]
    },
    {
      "cell_type": "code",
      "metadata": {
        "colab": {
          "base_uri": "https://localhost:8080/"
        },
        "id": "p7VhEwZd1OIJ",
        "outputId": "fde89ef9-8ca0-42fd-84aa-bd47f8c0acf3"
      },
      "source": [
        "skewness = skewness[abs(skewness) > 0.75]\n",
        "print(\"There are {} skewed numerical features to Box Cox transform\".format(skewness.shape[0]))\n",
        "\n",
        "from scipy.special import boxcox1p\n",
        "skewed_features = skewness.index\n",
        "lam = 0.15\n",
        "for feat in skewed_features:\n",
        "    #all_data[feat] += 1\n",
        "    all_data[feat] = boxcox1p(all_data[feat], lam)\n",
        "    \n",
        "#all_data[skewed_features] = np.log1p(all_data[skewed_features])"
      ],
      "execution_count": null,
      "outputs": [
        {
          "output_type": "stream",
          "text": [
            "There are 59 skewed numerical features to Box Cox transform\n"
          ],
          "name": "stdout"
        }
      ]
    },
    {
      "cell_type": "code",
      "metadata": {
        "colab": {
          "base_uri": "https://localhost:8080/"
        },
        "id": "ScIciEFE1vOf",
        "outputId": "b57762e1-a20c-47d2-af4b-c070570f4ed8"
      },
      "source": [
        "#カテゴリカルダミー変数の取得\n",
        "all_data = pd.get_dummies(all_data)\n",
        "print(all_data.shape)"
      ],
      "execution_count": null,
      "outputs": [
        {
          "output_type": "stream",
          "text": [
            "(2917, 220)\n"
          ],
          "name": "stdout"
        }
      ]
    },
    {
      "cell_type": "code",
      "metadata": {
        "id": "sbvq20R41y3j"
      },
      "source": [
        "#新しいdfとdf_testセットの入手\n",
        "df = all_data[:ntrain]\n",
        "df_test = all_data[ntrain:]"
      ],
      "execution_count": null,
      "outputs": []
    },
    {
      "cell_type": "code",
      "metadata": {
        "id": "NdVIvnyB2cVi"
      },
      "source": [
        "from sklearn.linear_model import ElasticNet, Lasso,  BayesianRidge, LassoLarsIC\n",
        "from sklearn.ensemble import RandomForestRegressor,  GradientBoostingRegressor\n",
        "from sklearn.kernel_ridge import KernelRidge\n",
        "from sklearn.pipeline import make_pipeline\n",
        "from sklearn.preprocessing import RobustScaler\n",
        "from sklearn.base import BaseEstimator, TransformerMixin, RegressorMixin, clone\n",
        "from sklearn.model_selection import KFold, cross_val_score, train_test_split\n",
        "from sklearn.metrics import mean_squared_error\n",
        "import xgboost as xgb\n",
        "import lightgbm as lgb"
      ],
      "execution_count": null,
      "outputs": []
    },
    {
      "cell_type": "markdown",
      "metadata": {
        "id": "NMf9jM1F2r-6"
      },
      "source": [
        "クロスバリデーション戦略の定義\n",
        "\n",
        "Sklearnのcross_val_score関数を使用します。しかし、この関数にはshuffle属性がないので、クロスバリデーションの前にデータセットをシャッフルするために、1行のコードを追加します。"
      ]
    },
    {
      "cell_type": "code",
      "metadata": {
        "id": "vfB2i5u42i1n"
      },
      "source": [
        "#Validation function\n",
        "n_folds = 5\n",
        "\n",
        "def rmsle_cv(model):\n",
        "    kf = KFold(n_folds, shuffle=True, random_state=42).get_n_splits(df.values)\n",
        "    rmse= np.sqrt(-cross_val_score(model, df.values, y_train, scoring=\"neg_mean_squared_error\", cv = kf))\n",
        "    return(rmse)"
      ],
      "execution_count": null,
      "outputs": []
    },
    {
      "cell_type": "markdown",
      "metadata": {
        "id": "Fh_ThBitRpk4"
      },
      "source": [
        "様々な回帰手法を使ってモデルを作成する<br>\n",
        "<a href=\"https://qiita.com/Takayoshi_Makabe/items/8f6dcb25124b9dcb1ae8\">ラッソ回帰</a><br>\n",
        "<a href=\"https://aizine.ai/ridge-lasso-elasticnet/#toc9\">ElasticNet回帰</a><br>\n",
        "<a herf=\"\">カーネルリッジ回帰</a><br>\n",
        "<a herf=\"\">勾配ブースティング回帰</a><br>\n",
        "<a herf=\"\">light GBM</a><br>\n",
        "<a herf=\"\">XGBoost</a><br>\n",
        "\n"
      ]
    },
    {
      "cell_type": "code",
      "metadata": {
        "id": "ltW1Q9tn6Rrn"
      },
      "source": [
        "#ラッソ回帰\n",
        "lasso = make_pipeline(RobustScaler(), Lasso(alpha =0.0005, random_state=1))"
      ],
      "execution_count": null,
      "outputs": []
    },
    {
      "cell_type": "code",
      "metadata": {
        "id": "2tLXr9sy6ZFn"
      },
      "source": [
        "#エラスティックネット回帰\n",
        "ENet = make_pipeline(RobustScaler(), ElasticNet(alpha=0.0005, l1_ratio=.9, random_state=3))"
      ],
      "execution_count": null,
      "outputs": []
    },
    {
      "cell_type": "code",
      "metadata": {
        "id": "jBuPQpQh6pI3"
      },
      "source": [
        "#カーネルリッジ回帰\n",
        "KRR = KernelRidge(alpha=0.6, kernel='polynomial', degree=2, coef0=2.5)"
      ],
      "execution_count": null,
      "outputs": []
    },
    {
      "cell_type": "code",
      "metadata": {
        "id": "J98R_s7g62RH"
      },
      "source": [
        "#勾配ブースティング回帰\n",
        "GBoost = GradientBoostingRegressor(n_estimators=3000, learning_rate=0.05,\n",
        "                                   max_depth=4, max_features='sqrt',\n",
        "                                   min_samples_leaf=15, min_samples_split=10, \n",
        "                                   loss='huber', random_state =5)"
      ],
      "execution_count": null,
      "outputs": []
    },
    {
      "cell_type": "code",
      "metadata": {
        "id": "KMBQqL2o21tt"
      },
      "source": [
        "#light GBM\n",
        "model_lgb = lgb.LGBMRegressor(objective='regression',num_leaves=5,\n",
        "                              learning_rate=0.05, n_estimators=720,\n",
        "                              max_bin = 55, bagging_fraction = 0.8,\n",
        "                              bagging_freq = 5, feature_fraction = 0.2319,\n",
        "                              feature_fraction_seed=9, bagging_seed=9,\n",
        "                              min_data_in_leaf =6, min_sum_hessian_in_leaf = 11)"
      ],
      "execution_count": null,
      "outputs": []
    },
    {
      "cell_type": "code",
      "metadata": {
        "id": "4pGfVoD352a1"
      },
      "source": [
        "#XGBoost\n",
        "model_xgb = xgb.XGBRegressor(colsample_bytree=0.4603, gamma=0.0468, \n",
        "                             learning_rate=0.05, max_depth=3, \n",
        "                             min_child_weight=1.7817, n_estimators=2200,\n",
        "                             reg_alpha=0.4640, reg_lambda=0.8571,\n",
        "                             subsample=0.5213, silent=1,\n",
        "                             random_state =7, nthread = -1)"
      ],
      "execution_count": null,
      "outputs": []
    },
    {
      "cell_type": "code",
      "metadata": {
        "colab": {
          "base_uri": "https://localhost:8080/"
        },
        "id": "ePSBmdjZ7GHN",
        "outputId": "7cc45294-0f83-4494-ba80-bdd355419f53"
      },
      "source": [
        "score = rmsle_cv(lasso)\n",
        "print(\"\\nLasso score: {:.4f} ({:.4f})\\n\".format(score.mean(), score.std()))"
      ],
      "execution_count": null,
      "outputs": [
        {
          "output_type": "stream",
          "text": [
            "\n",
            "Lasso score: 0.1115 (0.0074)\n",
            "\n"
          ],
          "name": "stdout"
        }
      ]
    },
    {
      "cell_type": "code",
      "metadata": {
        "colab": {
          "base_uri": "https://localhost:8080/"
        },
        "id": "A6-W14DB7LiV",
        "outputId": "cdd8a284-e570-4250-edab-90580affde2c"
      },
      "source": [
        "score = rmsle_cv(ENet)\n",
        "print(\"ElasticNet score: {:.4f} ({:.4f})\\n\".format(score.mean(), score.std()))"
      ],
      "execution_count": null,
      "outputs": [
        {
          "output_type": "stream",
          "text": [
            "ElasticNet score: 0.1116 (0.0074)\n",
            "\n"
          ],
          "name": "stdout"
        }
      ]
    },
    {
      "cell_type": "code",
      "metadata": {
        "colab": {
          "base_uri": "https://localhost:8080/"
        },
        "id": "rBG0usWv7O1F",
        "outputId": "c9e0d394-4b22-432b-d71b-1e20a181cd65"
      },
      "source": [
        "score = rmsle_cv(KRR)\n",
        "print(\"Kernel Ridge score: {:.4f} ({:.4f})\\n\".format(score.mean(), score.std()))"
      ],
      "execution_count": null,
      "outputs": [
        {
          "output_type": "stream",
          "text": [
            "Kernel Ridge score: 0.1153 (0.0075)\n",
            "\n"
          ],
          "name": "stdout"
        }
      ]
    },
    {
      "cell_type": "code",
      "metadata": {
        "colab": {
          "base_uri": "https://localhost:8080/"
        },
        "id": "SM4suTSa7c6j",
        "outputId": "875d0fba-215c-4c13-e05a-3c712f4db355"
      },
      "source": [
        "score = rmsle_cv(GBoost)\n",
        "print(\"Gradient Boosting score: {:.4f} ({:.4f})\\n\".format(score.mean(), score.std()))"
      ],
      "execution_count": null,
      "outputs": [
        {
          "output_type": "stream",
          "text": [
            "Gradient Boosting score: 0.1167 (0.0083)\n",
            "\n"
          ],
          "name": "stdout"
        }
      ]
    },
    {
      "cell_type": "code",
      "metadata": {
        "colab": {
          "base_uri": "https://localhost:8080/"
        },
        "id": "A44fFSCB3FIv",
        "outputId": "195e2eac-f7a5-4615-e20d-8e5f50725f7c"
      },
      "source": [
        "score = rmsle_cv(model_lgb)\n",
        "print(\"LGBM score: {:.4f} ({:.4f})\\n\" .format(score.mean(), score.std()))"
      ],
      "execution_count": null,
      "outputs": [
        {
          "output_type": "stream",
          "text": [
            "LGBM score: 0.1176 (0.0062)\n",
            "\n"
          ],
          "name": "stdout"
        }
      ]
    },
    {
      "cell_type": "code",
      "metadata": {
        "colab": {
          "base_uri": "https://localhost:8080/"
        },
        "id": "jCL2JOXB584U",
        "outputId": "878ba9a9-f24f-44c2-a8c2-b91840f267b1"
      },
      "source": [
        "score = rmsle_cv(model_xgb)\n",
        "print(\"Xgboost score: {:.4f} ({:.4f})\\n\".format(score.mean(), score.std()))"
      ],
      "execution_count": null,
      "outputs": [
        {
          "output_type": "stream",
          "text": [
            "Xgboost score: 0.1150 (0.0066)\n",
            "\n"
          ],
          "name": "stdout"
        }
      ]
    },
    {
      "cell_type": "markdown",
      "metadata": {
        "id": "oKK-sg1Z7nc9"
      },
      "source": [
        "まず、ベースモデルを平均化するというシンプルなアプローチから始めます。scikit-learnを我々のモデルで拡張し、カプセル化とコードの再利用（継承）を平均化するために、新しいクラスを構築します。"
      ]
    },
    {
      "cell_type": "code",
      "metadata": {
        "id": "5axhkjge7tsr"
      },
      "source": [
        "class AveragingModels(BaseEstimator, RegressorMixin, TransformerMixin):\n",
        "    def __init__(self, models):\n",
        "        self.models = models\n",
        "        \n",
        "    # we define clones of the original models to fit the data in\n",
        "    def fit(self, X, y):\n",
        "        self.models_ = [clone(x) for x in self.models]\n",
        "        \n",
        "        # Train cloned base models\n",
        "        for model in self.models_:\n",
        "            model.fit(X, y)\n",
        "\n",
        "        return self\n",
        "    \n",
        "    #Now we do the predictions for cloned models and average them\n",
        "    def predict(self, X):\n",
        "        predictions = np.column_stack([\n",
        "            model.predict(X) for model in self.models_\n",
        "        ])\n",
        "        return np.mean(predictions, axis=1) "
      ],
      "execution_count": null,
      "outputs": []
    },
    {
      "cell_type": "code",
      "metadata": {
        "colab": {
          "base_uri": "https://localhost:8080/"
        },
        "id": "oLu7HNkn7xY-",
        "outputId": "5db3f6ad-f441-4d69-abd1-bb9692c6180d"
      },
      "source": [
        "averaged_models = AveragingModels(models = (ENet, GBoost, KRR, lasso))\n",
        "\n",
        "score = rmsle_cv(averaged_models)\n",
        "print(\" Averaged base models score: {:.4f} ({:.4f})\\n\".format(score.mean(), score.std()))"
      ],
      "execution_count": null,
      "outputs": [
        {
          "output_type": "stream",
          "text": [
            " Averaged base models score: 0.1087 (0.0077)\n",
            "\n"
          ],
          "name": "stdout"
        }
      ]
    },
    {
      "cell_type": "markdown",
      "metadata": {
        "id": "3l4p4c2z8DC_"
      },
      "source": [
        "よりシンプルな積み上げ方：メタモデルの追加\n",
        "この方法では，平均化されたベースモデルの上にメタモデルを追加し，ベースモデルのフォールド外予測を使ってメタモデルを学習します．\n",
        "\n",
        "学習部分の手順は、以下のようになります。\n",
        "\n",
        "全体のトレーニングセットを2つの離散したセット（ここではtrainと.holdout）に分割する。\n",
        "\n",
        "最初の部分でいくつかのベースモデルを学習する（train）。\n",
        "\n",
        "これらのベースモデルを第2の部分（holdout）でテストする。\n",
        "\n",
        "3)で得られた予測（out-of-folds predictionsと呼ばれる）を入力とし、正解（target variable）を出力として、メタモデルと呼ばれる上位の学習者を学習します。\n",
        "\n",
        "最初の3つのステップは繰り返し行われます。例えば、5フォールドスタッキングを例にとると、まず学習データを5つのフォールドに分割します。そして、5回の反復を行います。各反復において、4つのフォールドですべてのベースモデルを学習し、残りのフォールド（ホールドアウトフォールド）で予測を行います。\n",
        "\n",
        "したがって、5回の反復後には、データ全体を使ってフォールド外の予測が得られていることを確認し、ステップ4でメタモデルを訓練するための新しい特徴として使用します。\n",
        "\n",
        "予測の部分では、テストデータに対するすべてのベースモデルの予測を平均化し、それらをメタモデルで最終的な予測を行うためのメタ特徴として使用します。<br>https://www.slideshare.net/HJvanVeen/kaggle-presentation\n",
        "![QBuDOjs.jpg](data:image/jpeg;base64,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)"
      ]
    },
    {
      "cell_type": "code",
      "metadata": {
        "id": "GzD6Oiee72lp"
      },
      "source": [
        "#スタックアベレージモデルクラス\n",
        "class StackingAveragedModels(BaseEstimator, RegressorMixin, TransformerMixin):\n",
        "    def __init__(self, base_models, meta_model, n_folds=5):\n",
        "        self.base_models = base_models\n",
        "        self.meta_model = meta_model\n",
        "        self.n_folds = n_folds\n",
        "   \n",
        "    # 元のモデルのクローンを使って再びデータをフィットさせる\n",
        "    def fit(self, X, y):\n",
        "        self.base_models_ = [list() for x in self.base_models]\n",
        "        self.meta_model_ = clone(self.meta_model)\n",
        "        kfold = KFold(n_splits=self.n_folds, shuffle=True, random_state=156)\n",
        "        \n",
        "        # クローン化されたベースモデルを学習し、アウトオブフォールドの予測を行う\n",
        "        # 複製されたメタ・モデルを訓練するために必要とされる\n",
        "        out_of_fold_predictions = np.zeros((X.shape[0], len(self.base_models)))\n",
        "        for i, model in enumerate(self.base_models):\n",
        "            for train_index, holdout_index in kfold.split(X, y):\n",
        "                instance = clone(model)\n",
        "                self.base_models_[i].append(instance)\n",
        "                instance.fit(X[train_index], y[train_index])\n",
        "                y_pred = instance.predict(X[holdout_index])\n",
        "                out_of_fold_predictions[holdout_index, i] = y_pred\n",
        "                \n",
        "        #フォールド外の予測値を新しい特徴として、クローンされたメタモデルを学習します。\n",
        "        self.meta_model_.fit(out_of_fold_predictions, y)\n",
        "        return self\n",
        "   \n",
        "    #全てのベースモデルの予測をテストデータに対して行い、平均化された予測値をメタモデルの最終予測に使用します。\n",
        "    #メタモデルが行う最終的な予測のためのメタ特性として使用します。\n",
        "    def predict(self, X):\n",
        "        meta_features = np.column_stack([\n",
        "            np.column_stack([model.predict(X) for model in base_models]).mean(axis=1)\n",
        "            for base_models in self.base_models_ ])\n",
        "        return self.meta_model_.predict(meta_features)"
      ],
      "execution_count": null,
      "outputs": []
    },
    {
      "cell_type": "code",
      "metadata": {
        "colab": {
          "base_uri": "https://localhost:8080/"
        },
        "id": "JH7TBQ8m9C-6",
        "outputId": "5e012d57-e89e-446a-d44f-8edf428519ec"
      },
      "source": [
        "#2つのアプローチを比較できるように（同じ数のモデルを使用して）、Enet KRRとGboostを平均し、メタモデルとしてlassoを追加しています。\n",
        "#モデルスコアを出す\n",
        "stacked_averaged_models = StackingAveragedModels(base_models = (ENet, GBoost, KRR),\n",
        "                                                 meta_model = lasso)\n",
        "\n",
        "score = rmsle_cv(stacked_averaged_models)\n",
        "print(\"Stacking Averaged models score: {:.4f} ({:.4f})\".format(score.mean(), score.std()))"
      ],
      "execution_count": null,
      "outputs": [
        {
          "output_type": "stream",
          "text": [
            "Stacking Averaged models score: 0.1081 (0.0073)\n"
          ],
          "name": "stdout"
        }
      ]
    },
    {
      "cell_type": "markdown",
      "metadata": {
        "id": "mIj0w0Ve9v-g"
      },
      "source": [
        "最終的なトレーニングと予測"
      ]
    },
    {
      "cell_type": "code",
      "metadata": {
        "id": "6qHRz9yT4sjc"
      },
      "source": [
        "def rmsle(y, y_pred):\n",
        "    return np.sqrt(mean_squared_error(y, y_pred))"
      ],
      "execution_count": null,
      "outputs": []
    },
    {
      "cell_type": "code",
      "metadata": {
        "id": "nafkchnTIseN"
      },
      "source": [
        ""
      ],
      "execution_count": null,
      "outputs": []
    },
    {
      "cell_type": "code",
      "metadata": {
        "colab": {
          "base_uri": "https://localhost:8080/"
        },
        "id": "BXF1A64w9T8J",
        "outputId": "d71b8196-8234-45cc-a974-4ac223e69a77"
      },
      "source": [
        "#StackedRegressor\n",
        "stacked_averaged_models.fit(df.values, y_train)\n",
        "stacked_train_pred = stacked_averaged_models.predict(df.values)\n",
        "stacked_pred = np.expm1(stacked_averaged_models.predict(df_test.values))\n",
        "print(rmsle(y_train, stacked_train_pred))"
      ],
      "execution_count": null,
      "outputs": [
        {
          "output_type": "stream",
          "text": [
            "0.07839506096664628\n"
          ],
          "name": "stdout"
        }
      ]
    },
    {
      "cell_type": "code",
      "metadata": {
        "colab": {
          "base_uri": "https://localhost:8080/"
        },
        "id": "kUCcnZhl9Wd7",
        "outputId": "32e282b4-557f-41c4-8f3f-ac788fb3b20a"
      },
      "source": [
        "#XGBoost\n",
        "model_xgb.fit(df, y_train)\n",
        "xgb_train_pred = model_xgb.predict(df)\n",
        "xgb_pred = np.expm1(model_xgb.predict(df_test))\n",
        "print(rmsle(y_train, xgb_train_pred))"
      ],
      "execution_count": null,
      "outputs": [
        {
          "output_type": "stream",
          "text": [
            "0.0788580427618937\n"
          ],
          "name": "stdout"
        }
      ]
    },
    {
      "cell_type": "code",
      "metadata": {
        "colab": {
          "base_uri": "https://localhost:8080/"
        },
        "id": "JEf5gbk83FuO",
        "outputId": "c1e195e4-842f-4dc2-b193-a6ef672dae42"
      },
      "source": [
        "#light GBM\n",
        "model_lgb.fit(df, y_train)\n",
        "lgb_train_pred = model_lgb.predict(df)\n",
        "lgb_pred = np.expm1(model_lgb.predict(df_test.values))\n",
        "print(rmsle(y_train, lgb_train_pred))"
      ],
      "execution_count": null,
      "outputs": [
        {
          "output_type": "stream",
          "text": [
            "0.07294132053731643\n"
          ],
          "name": "stdout"
        }
      ]
    },
    {
      "cell_type": "code",
      "metadata": {
        "colab": {
          "base_uri": "https://localhost:8080/"
        },
        "id": "UwO8NVzz-e2M",
        "outputId": "06831d3c-5449-48c9-f7b1-e0e441df0531"
      },
      "source": [
        "#'''平均化した場合のTrainデータ全体のRMSE'''\n",
        "\n",
        "print('RMSLE score on train data:')\n",
        "print(rmsle(y_train,stacked_train_pred*0.60 +\n",
        "               xgb_train_pred*0.20 + lgb_train_pred*0.20 ))"
      ],
      "execution_count": null,
      "outputs": [
        {
          "output_type": "stream",
          "text": [
            "RMSLE score on train data:\n",
            "0.07504601258254061\n"
          ],
          "name": "stdout"
        }
      ]
    },
    {
      "cell_type": "markdown",
      "metadata": {
        "id": "q4knhfXMK0vt"
      },
      "source": [
        "<a href=\"https://qiita.com/hkthirano/items/2c35a81fbc95f0e4b7c1\">アンサンブル予測について</a>\n"
      ]
    },
    {
      "cell_type": "code",
      "metadata": {
        "colab": {
          "base_uri": "https://localhost:8080/"
        },
        "id": "BvjiTIEG-g_C",
        "outputId": "6f25438e-e9db-4bea-a9a1-f80fad8d5078"
      },
      "source": [
        "#アンサンブル予測\n",
        "print(\"最高スコア0.11984\")\n",
        "ensemble = stacked_pred*0.60 + xgb_pred*0.20 + lgb_pred*0.20"
      ],
      "execution_count": null,
      "outputs": [
        {
          "output_type": "stream",
          "text": [
            "最高スコア0.11984\n"
          ],
          "name": "stdout"
        }
      ]
    },
    {
      "cell_type": "code",
      "metadata": {
        "colab": {
          "base_uri": "https://localhost:8080/",
          "height": 138
        },
        "id": "jHijWPxf_7jg",
        "outputId": "27e05335-bd57-4e3c-b08a-3919a9789024"
      },
      "source": [
        "print(\"LGBMのみの場合Score0.12315\")\n",
        "ensemble = lgb_pred"
      ],
      "execution_count": null,
      "outputs": [
        {
          "output_type": "error",
          "ename": "SyntaxError",
          "evalue": "ignored",
          "traceback": [
            "\u001b[0;36m  File \u001b[0;32m\"<ipython-input-123-3d38c0ae809c>\"\u001b[0;36m, line \u001b[0;32m1\u001b[0m\n\u001b[0;31m    print(\"LGBMのみの場合Score0.12315)\u001b[0m\n\u001b[0m                                 ^\u001b[0m\n\u001b[0;31mSyntaxError\u001b[0m\u001b[0;31m:\u001b[0m EOL while scanning string literal\n"
          ]
        }
      ]
    },
    {
      "cell_type": "code",
      "metadata": {
        "id": "w6AjCxGN4Euq"
      },
      "source": [
        "sub = pd.DataFrame()\n",
        "sub['Id'] = test_ID\n",
        "sub['SalePrice'] = ensemble\n",
        "sub.to_csv('submission.csv',index=False)"
      ],
      "execution_count": null,
      "outputs": []
    },
    {
      "cell_type": "code",
      "metadata": {
        "id": "ZRmPpX0GJ9jg",
        "colab": {
          "base_uri": "https://localhost:8080/",
          "height": 17
        },
        "outputId": "52ccf9b3-aef2-4d08-f57c-edadfe5d9228"
      },
      "source": [
        "from google.colab import files\n",
        "files.download('submission.csv')"
      ],
      "execution_count": null,
      "outputs": [
        {
          "output_type": "display_data",
          "data": {
            "application/javascript": [
              "\n",
              "    async function download(id, filename, size) {\n",
              "      if (!google.colab.kernel.accessAllowed) {\n",
              "        return;\n",
              "      }\n",
              "      const div = document.createElement('div');\n",
              "      const label = document.createElement('label');\n",
              "      label.textContent = `Downloading \"${filename}\": `;\n",
              "      div.appendChild(label);\n",
              "      const progress = document.createElement('progress');\n",
              "      progress.max = size;\n",
              "      div.appendChild(progress);\n",
              "      document.body.appendChild(div);\n",
              "\n",
              "      const buffers = [];\n",
              "      let downloaded = 0;\n",
              "\n",
              "      const channel = await google.colab.kernel.comms.open(id);\n",
              "      // Send a message to notify the kernel that we're ready.\n",
              "      channel.send({})\n",
              "\n",
              "      for await (const message of channel.messages) {\n",
              "        // Send a message to notify the kernel that we're ready.\n",
              "        channel.send({})\n",
              "        if (message.buffers) {\n",
              "          for (const buffer of message.buffers) {\n",
              "            buffers.push(buffer);\n",
              "            downloaded += buffer.byteLength;\n",
              "            progress.value = downloaded;\n",
              "          }\n",
              "        }\n",
              "      }\n",
              "      const blob = new Blob(buffers, {type: 'application/binary'});\n",
              "      const a = document.createElement('a');\n",
              "      a.href = window.URL.createObjectURL(blob);\n",
              "      a.download = filename;\n",
              "      div.appendChild(a);\n",
              "      a.click();\n",
              "      div.remove();\n",
              "    }\n",
              "  "
            ],
            "text/plain": [
              "<IPython.core.display.Javascript object>"
            ]
          },
          "metadata": {
            "tags": []
          }
        },
        {
          "output_type": "display_data",
          "data": {
            "application/javascript": [
              "download(\"download_d82e9d6f-79f1-4e6d-91a0-3164526f1962\", \"submission.csv\", 34434)"
            ],
            "text/plain": [
              "<IPython.core.display.Javascript object>"
            ]
          },
          "metadata": {
            "tags": []
          }
        }
      ]
    },
    {
      "cell_type": "markdown",
      "metadata": {
        "id": "45VQC7LgCklY"
      },
      "source": [
        ""
      ]
    },
    {
      "cell_type": "code",
      "metadata": {
        "id": "91PqktwS_FWz"
      },
      "source": [
        ""
      ],
      "execution_count": null,
      "outputs": []
    }
  ]
}